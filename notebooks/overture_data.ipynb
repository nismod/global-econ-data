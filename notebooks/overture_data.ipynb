{
 "cells": [
  {
   "cell_type": "markdown",
   "metadata": {},
   "source": [
    "# Visualising Overture data and breaking it down into sectors"
   ]
  },
  {
   "cell_type": "code",
   "execution_count": 1,
   "metadata": {},
   "outputs": [],
   "source": [
    "import numpy as np\n",
    "import json\n",
    "# import shapely\n",
    "from scalenav.plotting import cmap\n",
    "import scalenav.oop as snoo\n",
    "import matplotlib.pyplot as plt\n",
    "\n",
    "import ibis as ib\n",
    "from ibis import _\n",
    "import ibis.selectors as s\n",
    "\n",
    "ib.options.interactive = True\n",
    "ib.options.graphviz_repr = True\n",
    "\n",
    "import pydeck as pdk\n"
   ]
  },
  {
   "cell_type": "markdown",
   "metadata": {},
   "source": [
    "## Params"
   ]
  },
  {
   "cell_type": "code",
   "execution_count": 2,
   "metadata": {},
   "outputs": [],
   "source": [
    "from parameters import *\n",
    "bboxs = json.load(open(\"data/bboxs.json\",\"r\"))"
   ]
  },
  {
   "cell_type": "code",
   "execution_count": 3,
   "metadata": {},
   "outputs": [
    {
     "name": "stdout",
     "output_type": "stream",
     "text": [
      "connecting to existing database.\n"
     ]
    }
   ],
   "source": [
    "# the spatial extension\n",
    "# https://duckdb.org/docs/extensions/spatial/functions\n",
    "\n",
    "# the h3 extension in duckdb\n",
    "# https://github.com/isaacbrodsky/h3-duckdb?tab=readme-ov-file\n",
    "\n",
    "conn = snoo.sn_connect(\"../\" + overture_db_filename,interactive=True, memory_limit=\"100GB\",access_mode=\"READ_ONLY\",threads = 8)"
   ]
  },
  {
   "cell_type": "markdown",
   "metadata": {},
   "source": [
    "## Guide on working with Overture\n",
    "Smaller files are downloaded here\n",
    "\n",
    "https://docs.overturemaps.org/guides/\n",
    "\n",
    "https://github.com/OvertureMaps/data?tab=readme-ov-file "
   ]
  },
  {
   "cell_type": "markdown",
   "metadata": {},
   "source": [
    "## Selecting an area of interest"
   ]
  },
  {
   "cell_type": "code",
   "execution_count": 4,
   "metadata": {},
   "outputs": [],
   "source": [
    "bbox_name = 'global'\n",
    "bbox = bboxs[bbox_name]"
   ]
  },
  {
   "cell_type": "code",
   "execution_count": 5,
   "metadata": {},
   "outputs": [],
   "source": [
    "# Set the viewport location\n",
    "view_state = pdk.ViewState(latitude=np.mean(bbox[1::2]), longitude=np.mean(bbox[0::2]), zoom=3, bearing=0, pitch=30)"
   ]
  },
  {
   "cell_type": "markdown",
   "metadata": {},
   "source": [
    "## Local places and landuse file"
   ]
  },
  {
   "cell_type": "code",
   "execution_count": 6,
   "metadata": {},
   "outputs": [
    {
     "data": {
      "text/plain": [
       "['boundaries',\n",
       " 'dose_wdi',\n",
       " 'overture_h3_geom',\n",
       " 'overture_landuse',\n",
       " 'overture_pois',\n",
       " 'places',\n",
       " 'places_types']"
      ]
     },
     "execution_count": 6,
     "metadata": {},
     "output_type": "execute_result"
    }
   ],
   "source": [
    "conn.list_tables()"
   ]
  },
  {
   "cell_type": "code",
   "execution_count": 7,
   "metadata": {},
   "outputs": [],
   "source": [
    "# overture_data = conn.read_parquet(\"../\" + overture_places_landuses_filename)\n",
    "overture_data = conn.table(\"overture_pois\")\n"
   ]
  },
  {
   "cell_type": "code",
   "execution_count": 8,
   "metadata": {},
   "outputs": [
    {
     "name": "stdout",
     "output_type": "stream",
     "text": [
      "['id', 'sec_cat', 'x', 'y', 'sec_cat_right', 'section', 'isic_embed', 'isic_descr', 'dose', 'match_score', 'h3_id']\n"
     ]
    }
   ],
   "source": [
    "print(overture_data.columns)"
   ]
  },
  {
   "cell_type": "code",
   "execution_count": 9,
   "metadata": {},
   "outputs": [],
   "source": [
    "overture_sections = overture_data.section.value_counts().execute()"
   ]
  },
  {
   "cell_type": "code",
   "execution_count": 10,
   "metadata": {},
   "outputs": [
    {
     "data": {
      "image/png": "[encoded data removed]",
      "text/plain": [
       "<Figure size 640x480 with 1 Axes>"
      ]
     },
     "metadata": {},
     "output_type": "display_data"
    }
   ],
   "source": [
    "overture_sections.plot.bar(x=\"section\",y=\"section_count\",title=\"ISIC Coverage\",xlabel=\"ISIC section\",ylabel=\"Count\",legend=False,rot=0)\n",
    "plt.savefig(\"isic_count_overture.png\")\n",
    "plt.show()"
   ]
  },
  {
   "cell_type": "code",
   "execution_count": 11,
   "metadata": {},
   "outputs": [],
   "source": [
    "overture_data_top_cat = overture_data.sec_cat.value_counts().head(10).execute().sec_cat.to_list()"
   ]
  },
  {
   "cell_type": "code",
   "execution_count": 12,
   "metadata": {},
   "outputs": [
    {
     "data": {
      "text/plain": [
       "['retail',\n",
       " 'protected',\n",
       " 'zoo',\n",
       " 'brownfield',\n",
       " 'vineyard',\n",
       " 'water_park',\n",
       " 'institutional',\n",
       " 'static_caravan',\n",
       " 'private_investigation',\n",
       " 'home_cleaning']"
      ]
     },
     "execution_count": 12,
     "metadata": {},
     "output_type": "execute_result"
    }
   ],
   "source": [
    "overture_data_top_cat"
   ]
  },
  {
   "cell_type": "code",
   "execution_count": 13,
   "metadata": {},
   "outputs": [
    {
     "data": {
      "text/html": [
       "<pre style=\"white-space:pre;overflow-x:auto;line-height:normal;font-family:Menlo,'DejaVu Sans Mono',consolas,'Courier New',monospace\"></pre>\n"
      ],
      "text/plain": []
     },
     "metadata": {},
     "output_type": "display_data"
    },
    {
     "data": {
      "text/plain": [
       "┌──────────┐\n",
       "│ \u001b[1;36m71683808\u001b[0m │\n",
       "└──────────┘"
      ]
     },
     "execution_count": 13,
     "metadata": {},
     "output_type": "execute_result"
    }
   ],
   "source": [
    "overture_data.count()"
   ]
  },
  {
   "cell_type": "code",
   "execution_count": 14,
   "metadata": {},
   "outputs": [
    {
     "data": {
      "text/html": [
       "<pre style=\"white-space:pre;overflow-x:auto;line-height:normal;font-family:Menlo,'DejaVu Sans Mono',consolas,'Courier New',monospace\"></pre>\n"
      ],
      "text/plain": []
     },
     "metadata": {},
     "output_type": "display_data"
    },
    {
     "data": {
      "text/plain": [
       "┌──────────┐\n",
       "│ \u001b[1;36m50066465\u001b[0m │\n",
       "└──────────┘"
      ]
     },
     "execution_count": 14,
     "metadata": {},
     "output_type": "execute_result"
    }
   ],
   "source": [
    "overture_data.distinct(on=\"h3_id\").count()"
   ]
  },
  {
   "cell_type": "markdown",
   "metadata": {},
   "source": [
    "## Economic classification of Overture places and landuses"
   ]
  },
  {
   "cell_type": "code",
   "execution_count": 15,
   "metadata": {},
   "outputs": [
    {
     "data": {
      "application/vnd.microsoft.datawrangler.viewer.v0+json": {
       "columns": [
        {
         "name": "index",
         "rawType": "int64",
         "type": "integer"
        },
        {
         "name": "id",
         "rawType": "object",
         "type": "string"
        },
        {
         "name": "sec_cat",
         "rawType": "object",
         "type": "string"
        },
        {
         "name": "x",
         "rawType": "float32",
         "type": "float"
        },
        {
         "name": "y",
         "rawType": "float32",
         "type": "float"
        },
        {
         "name": "sec_cat_right",
         "rawType": "object",
         "type": "string"
        },
        {
         "name": "section",
         "rawType": "object",
         "type": "string"
        },
        {
         "name": "isic_embed",
         "rawType": "object",
         "type": "string"
        },
        {
         "name": "isic_descr",
         "rawType": "object",
         "type": "string"
        },
        {
         "name": "dose",
         "rawType": "object",
         "type": "string"
        },
        {
         "name": "match_score",
         "rawType": "float64",
         "type": "float"
        },
        {
         "name": "h3_id",
         "rawType": "object",
         "type": "string"
        }
       ],
       "conversionMethod": "pd.DataFrame",
       "ref": "4e63990d-a1b7-4e5b-9ec3-e1402855cd11",
       "rows": [
        [
         "0",
         "08b8f2cb53446fff0002bc3938fb6497",
         "grass",
         "-79.193985",
         "-0.2936526",
         "grass",
         "E",
         "37",
         "Sewerage",
         "manufacturing",
         "0.278746634721756",
         "8b8f2cb53446fff"
        ],
        [
         "1",
         "08b8f2cb53444fff0002b8f731b56a62",
         "grass",
         "-79.19343",
         "-0.29326725",
         "grass",
         "E",
         "37",
         "Sewerage",
         "manufacturing",
         "0.278746634721756",
         "8b8f2cb53444fff"
        ],
        [
         "2",
         "08b8f2cb53465fff0002b43f6da36210",
         "grass",
         "-79.19253",
         "-0.29263133",
         "grass",
         "E",
         "37",
         "Sewerage",
         "manufacturing",
         "0.278746634721756",
         "8b8f2cb53465fff"
        ],
        [
         "3",
         "08b8f2cb5354cfff0002b97be7c979b9",
         "school",
         "-79.19223",
         "-0.29113805",
         "school",
         "P",
         "85",
         "Education",
         "services",
         "0.3785665035247803",
         "8b8f2cb5354cfff"
        ],
        [
         "4",
         "08b8f2cb5224afff0002bfeb689f43f5",
         "school",
         "-79.198265",
         "-0.28772032",
         "school",
         "P",
         "85",
         "Education",
         "services",
         "0.3785665035247803",
         "8b8f2cb5224afff"
        ]
       ],
       "shape": {
        "columns": 11,
        "rows": 5
       }
      },
      "text/html": [
       "<div>\n",
       "<style scoped>\n",
       "    .dataframe tbody tr th:only-of-type {\n",
       "        vertical-align: middle;\n",
       "    }\n",
       "\n",
       "    .dataframe tbody tr th {\n",
       "        vertical-align: top;\n",
       "    }\n",
       "\n",
       "    .dataframe thead th {\n",
       "        text-align: right;\n",
       "    }\n",
       "</style>\n",
       "<table border=\"1\" class=\"dataframe\">\n",
       "  <thead>\n",
       "    <tr style=\"text-align: right;\">\n",
       "      <th></th>\n",
       "      <th>id</th>\n",
       "      <th>sec_cat</th>\n",
       "      <th>x</th>\n",
       "      <th>y</th>\n",
       "      <th>sec_cat_right</th>\n",
       "      <th>section</th>\n",
       "      <th>isic_embed</th>\n",
       "      <th>isic_descr</th>\n",
       "      <th>dose</th>\n",
       "      <th>match_score</th>\n",
       "      <th>h3_id</th>\n",
       "    </tr>\n",
       "  </thead>\n",
       "  <tbody>\n",
       "    <tr>\n",
       "      <th>0</th>\n",
       "      <td>08b8f2cb53446fff0002bc3938fb6497</td>\n",
       "      <td>grass</td>\n",
       "      <td>-79.193985</td>\n",
       "      <td>-0.293653</td>\n",
       "      <td>grass</td>\n",
       "      <td>E</td>\n",
       "      <td>37</td>\n",
       "      <td>Sewerage</td>\n",
       "      <td>manufacturing</td>\n",
       "      <td>0.278747</td>\n",
       "      <td>8b8f2cb53446fff</td>\n",
       "    </tr>\n",
       "    <tr>\n",
       "      <th>1</th>\n",
       "      <td>08b8f2cb53444fff0002b8f731b56a62</td>\n",
       "      <td>grass</td>\n",
       "      <td>-79.193428</td>\n",
       "      <td>-0.293267</td>\n",
       "      <td>grass</td>\n",
       "      <td>E</td>\n",
       "      <td>37</td>\n",
       "      <td>Sewerage</td>\n",
       "      <td>manufacturing</td>\n",
       "      <td>0.278747</td>\n",
       "      <td>8b8f2cb53444fff</td>\n",
       "    </tr>\n",
       "    <tr>\n",
       "      <th>2</th>\n",
       "      <td>08b8f2cb53465fff0002b43f6da36210</td>\n",
       "      <td>grass</td>\n",
       "      <td>-79.192528</td>\n",
       "      <td>-0.292631</td>\n",
       "      <td>grass</td>\n",
       "      <td>E</td>\n",
       "      <td>37</td>\n",
       "      <td>Sewerage</td>\n",
       "      <td>manufacturing</td>\n",
       "      <td>0.278747</td>\n",
       "      <td>8b8f2cb53465fff</td>\n",
       "    </tr>\n",
       "    <tr>\n",
       "      <th>3</th>\n",
       "      <td>08b8f2cb5354cfff0002b97be7c979b9</td>\n",
       "      <td>school</td>\n",
       "      <td>-79.192230</td>\n",
       "      <td>-0.291138</td>\n",
       "      <td>school</td>\n",
       "      <td>P</td>\n",
       "      <td>85</td>\n",
       "      <td>Education</td>\n",
       "      <td>services</td>\n",
       "      <td>0.378567</td>\n",
       "      <td>8b8f2cb5354cfff</td>\n",
       "    </tr>\n",
       "    <tr>\n",
       "      <th>4</th>\n",
       "      <td>08b8f2cb5224afff0002bfeb689f43f5</td>\n",
       "      <td>school</td>\n",
       "      <td>-79.198265</td>\n",
       "      <td>-0.287720</td>\n",
       "      <td>school</td>\n",
       "      <td>P</td>\n",
       "      <td>85</td>\n",
       "      <td>Education</td>\n",
       "      <td>services</td>\n",
       "      <td>0.378567</td>\n",
       "      <td>8b8f2cb5224afff</td>\n",
       "    </tr>\n",
       "  </tbody>\n",
       "</table>\n",
       "</div>"
      ],
      "text/plain": [
       "                                 id sec_cat          x         y  \\\n",
       "0  08b8f2cb53446fff0002bc3938fb6497   grass -79.193985 -0.293653   \n",
       "1  08b8f2cb53444fff0002b8f731b56a62   grass -79.193428 -0.293267   \n",
       "2  08b8f2cb53465fff0002b43f6da36210   grass -79.192528 -0.292631   \n",
       "3  08b8f2cb5354cfff0002b97be7c979b9  school -79.192230 -0.291138   \n",
       "4  08b8f2cb5224afff0002bfeb689f43f5  school -79.198265 -0.287720   \n",
       "\n",
       "  sec_cat_right section isic_embed isic_descr           dose  match_score  \\\n",
       "0         grass       E         37   Sewerage  manufacturing     0.278747   \n",
       "1         grass       E         37   Sewerage  manufacturing     0.278747   \n",
       "2         grass       E         37   Sewerage  manufacturing     0.278747   \n",
       "3        school       P         85  Education       services     0.378567   \n",
       "4        school       P         85  Education       services     0.378567   \n",
       "\n",
       "             h3_id  \n",
       "0  8b8f2cb53446fff  \n",
       "1  8b8f2cb53444fff  \n",
       "2  8b8f2cb53465fff  \n",
       "3  8b8f2cb5354cfff  \n",
       "4  8b8f2cb5224afff  "
      ]
     },
     "execution_count": 15,
     "metadata": {},
     "output_type": "execute_result"
    }
   ],
   "source": [
    "overture_data.head().execute()"
   ]
  },
  {
   "cell_type": "code",
   "execution_count": 16,
   "metadata": {},
   "outputs": [
    {
     "data": {
      "text/html": [
       "<pre style=\"white-space:pre;overflow-x:auto;line-height:normal;font-family:Menlo,'DejaVu Sans Mono',consolas,'Courier New',monospace\">┏━━━━━━━━━━━━━━━━━━━━━━━━━━━━━━┓\n",
       "┃<span style=\"font-weight: bold\"> sec_cat                      </span>┃\n",
       "┡━━━━━━━━━━━━━━━━━━━━━━━━━━━━━━┩\n",
       "│ <span style=\"color: #7f7f7f; text-decoration-color: #7f7f7f\">string</span>                       │\n",
       "├──────────────────────────────┤\n",
       "│ <span style=\"color: #008000; text-decoration-color: #008000\">works                       </span> │\n",
       "│ <span style=\"color: #008000; text-decoration-color: #008000\">driving_range               </span> │\n",
       "│ <span style=\"color: #008000; text-decoration-color: #008000\">green                       </span> │\n",
       "│ <span style=\"color: #008000; text-decoration-color: #008000\">protected_landscape_seascape</span> │\n",
       "│ <span style=\"color: #008000; text-decoration-color: #008000\">danger_area                 </span> │\n",
       "│ <span style=\"color: #008000; text-decoration-color: #008000\">obstacle_course             </span> │\n",
       "│ <span style=\"color: #008000; text-decoration-color: #008000\">barracks                    </span> │\n",
       "│ <span style=\"color: #008000; text-decoration-color: #008000\">highway                     </span> │\n",
       "│ <span style=\"color: #008000; text-decoration-color: #008000\">peat_cutting                </span> │\n",
       "│ <span style=\"color: #008000; text-decoration-color: #008000\">tanning_salon               </span> │\n",
       "│ <span style=\"color: #7f7f7f; text-decoration-color: #7f7f7f\">…</span>                            │\n",
       "└──────────────────────────────┘\n",
       "</pre>\n"
      ],
      "text/plain": [
       "┏━━━━━━━━━━━━━━━━━━━━━━━━━━━━━━┓\n",
       "┃\u001b[1m \u001b[0m\u001b[1msec_cat\u001b[0m\u001b[1m                     \u001b[0m\u001b[1m \u001b[0m┃\n",
       "┡━━━━━━━━━━━━━━━━━━━━━━━━━━━━━━┩\n",
       "│ \u001b[2mstring\u001b[0m                       │\n",
       "├──────────────────────────────┤\n",
       "│ \u001b[32mworks                       \u001b[0m │\n",
       "│ \u001b[32mdriving_range               \u001b[0m │\n",
       "│ \u001b[32mgreen                       \u001b[0m │\n",
       "│ \u001b[32mprotected_landscape_seascape\u001b[0m │\n",
       "│ \u001b[32mdanger_area                 \u001b[0m │\n",
       "│ \u001b[32mobstacle_course             \u001b[0m │\n",
       "│ \u001b[32mbarracks                    \u001b[0m │\n",
       "│ \u001b[32mhighway                     \u001b[0m │\n",
       "│ \u001b[32mpeat_cutting                \u001b[0m │\n",
       "│ \u001b[32mtanning_salon               \u001b[0m │\n",
       "│ \u001b[2m…\u001b[0m                            │\n",
       "└──────────────────────────────┘"
      ]
     },
     "execution_count": 16,
     "metadata": {},
     "output_type": "execute_result"
    }
   ],
   "source": [
    "overture_data.filter(~_.dose.isnull()).select(\"sec_cat\").distinct()"
   ]
  },
  {
   "cell_type": "code",
   "execution_count": 17,
   "metadata": {},
   "outputs": [],
   "source": [
    "overture_data = overture_data.drop_null(subset=[\"dose\"],how=\"any\")"
   ]
  },
  {
   "cell_type": "code",
   "execution_count": 18,
   "metadata": {},
   "outputs": [
    {
     "data": {
      "text/html": [
       "<pre style=\"white-space:pre;overflow-x:auto;line-height:normal;font-family:Menlo,'DejaVu Sans Mono',consolas,'Courier New',monospace\"></pre>\n"
      ],
      "text/plain": []
     },
     "metadata": {},
     "output_type": "display_data"
    },
    {
     "data": {
      "text/plain": [
       "┌──────────┐\n",
       "│ \u001b[1;36m71683808\u001b[0m │\n",
       "└──────────┘"
      ]
     },
     "execution_count": 18,
     "metadata": {},
     "output_type": "execute_result"
    }
   ],
   "source": [
    "overture_data.count()"
   ]
  },
  {
   "cell_type": "code",
   "execution_count": 19,
   "metadata": {},
   "outputs": [],
   "source": [
    "overture_data = overture_data.filter(_.match_score > .4)"
   ]
  },
  {
   "cell_type": "code",
   "execution_count": 20,
   "metadata": {},
   "outputs": [
    {
     "data": {
      "text/html": [
       "<pre style=\"white-space:pre;overflow-x:auto;line-height:normal;font-family:Menlo,'DejaVu Sans Mono',consolas,'Courier New',monospace\"></pre>\n"
      ],
      "text/plain": []
     },
     "metadata": {},
     "output_type": "display_data"
    },
    {
     "data": {
      "text/plain": [
       "┌──────────┐\n",
       "│ \u001b[1;36m42580904\u001b[0m │\n",
       "└──────────┘"
      ]
     },
     "execution_count": 20,
     "metadata": {},
     "output_type": "execute_result"
    }
   ],
   "source": [
    "overture_data.count()"
   ]
  },
  {
   "cell_type": "markdown",
   "metadata": {},
   "source": [
    "### ISIC categories mapped"
   ]
  },
  {
   "cell_type": "code",
   "execution_count": 21,
   "metadata": {},
   "outputs": [],
   "source": [
    "places_isic = overture_data.select([\"id\",\"dose\",\"sec_cat\",\"x\",\"y\"])"
   ]
  },
  {
   "cell_type": "code",
   "execution_count": 22,
   "metadata": {},
   "outputs": [
    {
     "data": {
      "text/html": [
       "<pre style=\"white-space:pre;overflow-x:auto;line-height:normal;font-family:Menlo,'DejaVu Sans Mono',consolas,'Courier New',monospace\">┏━━━━━━━━━━━━━━━━━━━━━━━━━━━━━━━━━━┳━━━━━━━━━━━━━━━┳━━━━━━━━━━━━━━┳━━━━━━━━━━━━┳━━━━━━━━━━━┓\n",
       "┃<span style=\"font-weight: bold\"> id                               </span>┃<span style=\"font-weight: bold\"> dose          </span>┃<span style=\"font-weight: bold\"> sec_cat      </span>┃<span style=\"font-weight: bold\"> x          </span>┃<span style=\"font-weight: bold\"> y         </span>┃\n",
       "┡━━━━━━━━━━━━━━━━━━━━━━━━━━━━━━━━━━╇━━━━━━━━━━━━━━━╇━━━━━━━━━━━━━━╇━━━━━━━━━━━━╇━━━━━━━━━━━┩\n",
       "│ <span style=\"color: #7f7f7f; text-decoration-color: #7f7f7f\">string</span>                           │ <span style=\"color: #7f7f7f; text-decoration-color: #7f7f7f\">string</span>        │ <span style=\"color: #7f7f7f; text-decoration-color: #7f7f7f\">string</span>       │ <span style=\"color: #7f7f7f; text-decoration-color: #7f7f7f\">float32</span>    │ <span style=\"color: #7f7f7f; text-decoration-color: #7f7f7f\">float32</span>   │\n",
       "├──────────────────────────────────┼───────────────┼──────────────┼────────────┼───────────┤\n",
       "│ <span style=\"color: #008000; text-decoration-color: #008000\">08b8f2cb5a88cfff0002b59c6f1f847f</span> │ <span style=\"color: #008000; text-decoration-color: #008000\">services     </span> │ <span style=\"color: #008000; text-decoration-color: #008000\">hospital    </span> │ <span style=\"color: #008080; text-decoration-color: #008080; font-weight: bold\">-79.169258</span> │ <span style=\"color: #008080; text-decoration-color: #008080; font-weight: bold\">-0.322253</span> │\n",
       "│ <span style=\"color: #008000; text-decoration-color: #008000\">08b8f2cb53906fff0002bc60315fc2a4</span> │ <span style=\"color: #008000; text-decoration-color: #008000\">services     </span> │ <span style=\"color: #008000; text-decoration-color: #008000\">hospital    </span> │ <span style=\"color: #008080; text-decoration-color: #008080; font-weight: bold\">-79.183823</span> │ <span style=\"color: #008080; text-decoration-color: #008080; font-weight: bold\">-0.279552</span> │\n",
       "│ <span style=\"color: #008000; text-decoration-color: #008000\">08b8f2cb544a9fff0002ba029aa3e3f7</span> │ <span style=\"color: #008000; text-decoration-color: #008000\">manufacturing</span> │ <span style=\"color: #008000; text-decoration-color: #008000\">construction</span> │ <span style=\"color: #008080; text-decoration-color: #008080; font-weight: bold\">-79.192764</span> │ <span style=\"color: #008080; text-decoration-color: #008080; font-weight: bold\">-0.246977</span> │\n",
       "│ <span style=\"color: #008000; text-decoration-color: #008000\">08b8f2cb55520fff0002ba12c2d8f45a</span> │ <span style=\"color: #008000; text-decoration-color: #008000\">services     </span> │ <span style=\"color: #008000; text-decoration-color: #008000\">hospital    </span> │ <span style=\"color: #008080; text-decoration-color: #008080; font-weight: bold\">-79.171303</span> │ <span style=\"color: #008080; text-decoration-color: #008080; font-weight: bold\">-0.254928</span> │\n",
       "│ <span style=\"color: #008000; text-decoration-color: #008000\">08b8f2cb55cabfff0002b2bef7ab4325</span> │ <span style=\"color: #008000; text-decoration-color: #008000\">services     </span> │ <span style=\"color: #008000; text-decoration-color: #008000\">retail      </span> │ <span style=\"color: #008080; text-decoration-color: #008080; font-weight: bold\">-79.170494</span> │ <span style=\"color: #008080; text-decoration-color: #008080; font-weight: bold\">-0.253329</span> │\n",
       "└──────────────────────────────────┴───────────────┴──────────────┴────────────┴───────────┘\n",
       "</pre>\n"
      ],
      "text/plain": [
       "┏━━━━━━━━━━━━━━━━━━━━━━━━━━━━━━━━━━┳━━━━━━━━━━━━━━━┳━━━━━━━━━━━━━━┳━━━━━━━━━━━━┳━━━━━━━━━━━┓\n",
       "┃\u001b[1m \u001b[0m\u001b[1mid\u001b[0m\u001b[1m                              \u001b[0m\u001b[1m \u001b[0m┃\u001b[1m \u001b[0m\u001b[1mdose\u001b[0m\u001b[1m         \u001b[0m\u001b[1m \u001b[0m┃\u001b[1m \u001b[0m\u001b[1msec_cat\u001b[0m\u001b[1m     \u001b[0m\u001b[1m \u001b[0m┃\u001b[1m \u001b[0m\u001b[1mx\u001b[0m\u001b[1m         \u001b[0m\u001b[1m \u001b[0m┃\u001b[1m \u001b[0m\u001b[1my\u001b[0m\u001b[1m        \u001b[0m\u001b[1m \u001b[0m┃\n",
       "┡━━━━━━━━━━━━━━━━━━━━━━━━━━━━━━━━━━╇━━━━━━━━━━━━━━━╇━━━━━━━━━━━━━━╇━━━━━━━━━━━━╇━━━━━━━━━━━┩\n",
       "│ \u001b[2mstring\u001b[0m                           │ \u001b[2mstring\u001b[0m        │ \u001b[2mstring\u001b[0m       │ \u001b[2mfloat32\u001b[0m    │ \u001b[2mfloat32\u001b[0m   │\n",
       "├──────────────────────────────────┼───────────────┼──────────────┼────────────┼───────────┤\n",
       "│ \u001b[32m08b8f2cb5a88cfff0002b59c6f1f847f\u001b[0m │ \u001b[32mservices     \u001b[0m │ \u001b[32mhospital    \u001b[0m │ \u001b[1;36m-79.169258\u001b[0m │ \u001b[1;36m-0.322253\u001b[0m │\n",
       "│ \u001b[32m08b8f2cb53906fff0002bc60315fc2a4\u001b[0m │ \u001b[32mservices     \u001b[0m │ \u001b[32mhospital    \u001b[0m │ \u001b[1;36m-79.183823\u001b[0m │ \u001b[1;36m-0.279552\u001b[0m │\n",
       "│ \u001b[32m08b8f2cb544a9fff0002ba029aa3e3f7\u001b[0m │ \u001b[32mmanufacturing\u001b[0m │ \u001b[32mconstruction\u001b[0m │ \u001b[1;36m-79.192764\u001b[0m │ \u001b[1;36m-0.246977\u001b[0m │\n",
       "│ \u001b[32m08b8f2cb55520fff0002ba12c2d8f45a\u001b[0m │ \u001b[32mservices     \u001b[0m │ \u001b[32mhospital    \u001b[0m │ \u001b[1;36m-79.171303\u001b[0m │ \u001b[1;36m-0.254928\u001b[0m │\n",
       "│ \u001b[32m08b8f2cb55cabfff0002b2bef7ab4325\u001b[0m │ \u001b[32mservices     \u001b[0m │ \u001b[32mretail      \u001b[0m │ \u001b[1;36m-79.170494\u001b[0m │ \u001b[1;36m-0.253329\u001b[0m │\n",
       "└──────────────────────────────────┴───────────────┴──────────────┴────────────┴───────────┘"
      ]
     },
     "execution_count": 22,
     "metadata": {},
     "output_type": "execute_result"
    }
   ],
   "source": [
    "places_isic.head()"
   ]
  },
  {
   "cell_type": "markdown",
   "metadata": {},
   "source": [
    "## Plotting DOSE classifications"
   ]
  },
  {
   "cell_type": "code",
   "execution_count": 23,
   "metadata": {},
   "outputs": [],
   "source": [
    "places_isic = places_isic.drop_null(subset=\"dose\")"
   ]
  },
  {
   "cell_type": "code",
   "execution_count": 24,
   "metadata": {},
   "outputs": [
    {
     "data": {
      "text/html": [
       "<pre style=\"white-space:pre;overflow-x:auto;line-height:normal;font-family:Menlo,'DejaVu Sans Mono',consolas,'Courier New',monospace\">┏━━━━━━━━━━━━━━━━━━━━━━━━━━━━━━━━━━┳━━━━━━━━━━━━━━━┳━━━━━━━━━━━━━━┳━━━━━━━━━━━━┳━━━━━━━━━━━┓\n",
       "┃<span style=\"font-weight: bold\"> id                               </span>┃<span style=\"font-weight: bold\"> dose          </span>┃<span style=\"font-weight: bold\"> sec_cat      </span>┃<span style=\"font-weight: bold\"> x          </span>┃<span style=\"font-weight: bold\"> y         </span>┃\n",
       "┡━━━━━━━━━━━━━━━━━━━━━━━━━━━━━━━━━━╇━━━━━━━━━━━━━━━╇━━━━━━━━━━━━━━╇━━━━━━━━━━━━╇━━━━━━━━━━━┩\n",
       "│ <span style=\"color: #7f7f7f; text-decoration-color: #7f7f7f\">string</span>                           │ <span style=\"color: #7f7f7f; text-decoration-color: #7f7f7f\">string</span>        │ <span style=\"color: #7f7f7f; text-decoration-color: #7f7f7f\">string</span>       │ <span style=\"color: #7f7f7f; text-decoration-color: #7f7f7f\">float32</span>    │ <span style=\"color: #7f7f7f; text-decoration-color: #7f7f7f\">float32</span>   │\n",
       "├──────────────────────────────────┼───────────────┼──────────────┼────────────┼───────────┤\n",
       "│ <span style=\"color: #008000; text-decoration-color: #008000\">08b8f2cb5a88cfff0002b59c6f1f847f</span> │ <span style=\"color: #008000; text-decoration-color: #008000\">services     </span> │ <span style=\"color: #008000; text-decoration-color: #008000\">hospital    </span> │ <span style=\"color: #008080; text-decoration-color: #008080; font-weight: bold\">-79.169258</span> │ <span style=\"color: #008080; text-decoration-color: #008080; font-weight: bold\">-0.322253</span> │\n",
       "│ <span style=\"color: #008000; text-decoration-color: #008000\">08b8f2cb53906fff0002bc60315fc2a4</span> │ <span style=\"color: #008000; text-decoration-color: #008000\">services     </span> │ <span style=\"color: #008000; text-decoration-color: #008000\">hospital    </span> │ <span style=\"color: #008080; text-decoration-color: #008080; font-weight: bold\">-79.183823</span> │ <span style=\"color: #008080; text-decoration-color: #008080; font-weight: bold\">-0.279552</span> │\n",
       "│ <span style=\"color: #008000; text-decoration-color: #008000\">08b8f2cb544a9fff0002ba029aa3e3f7</span> │ <span style=\"color: #008000; text-decoration-color: #008000\">manufacturing</span> │ <span style=\"color: #008000; text-decoration-color: #008000\">construction</span> │ <span style=\"color: #008080; text-decoration-color: #008080; font-weight: bold\">-79.192764</span> │ <span style=\"color: #008080; text-decoration-color: #008080; font-weight: bold\">-0.246977</span> │\n",
       "│ <span style=\"color: #008000; text-decoration-color: #008000\">08b8f2cb55520fff0002ba12c2d8f45a</span> │ <span style=\"color: #008000; text-decoration-color: #008000\">services     </span> │ <span style=\"color: #008000; text-decoration-color: #008000\">hospital    </span> │ <span style=\"color: #008080; text-decoration-color: #008080; font-weight: bold\">-79.171303</span> │ <span style=\"color: #008080; text-decoration-color: #008080; font-weight: bold\">-0.254928</span> │\n",
       "│ <span style=\"color: #008000; text-decoration-color: #008000\">08b8f2cb55cabfff0002b2bef7ab4325</span> │ <span style=\"color: #008000; text-decoration-color: #008000\">services     </span> │ <span style=\"color: #008000; text-decoration-color: #008000\">retail      </span> │ <span style=\"color: #008080; text-decoration-color: #008080; font-weight: bold\">-79.170494</span> │ <span style=\"color: #008080; text-decoration-color: #008080; font-weight: bold\">-0.253329</span> │\n",
       "└──────────────────────────────────┴───────────────┴──────────────┴────────────┴───────────┘\n",
       "</pre>\n"
      ],
      "text/plain": [
       "┏━━━━━━━━━━━━━━━━━━━━━━━━━━━━━━━━━━┳━━━━━━━━━━━━━━━┳━━━━━━━━━━━━━━┳━━━━━━━━━━━━┳━━━━━━━━━━━┓\n",
       "┃\u001b[1m \u001b[0m\u001b[1mid\u001b[0m\u001b[1m                              \u001b[0m\u001b[1m \u001b[0m┃\u001b[1m \u001b[0m\u001b[1mdose\u001b[0m\u001b[1m         \u001b[0m\u001b[1m \u001b[0m┃\u001b[1m \u001b[0m\u001b[1msec_cat\u001b[0m\u001b[1m     \u001b[0m\u001b[1m \u001b[0m┃\u001b[1m \u001b[0m\u001b[1mx\u001b[0m\u001b[1m         \u001b[0m\u001b[1m \u001b[0m┃\u001b[1m \u001b[0m\u001b[1my\u001b[0m\u001b[1m        \u001b[0m\u001b[1m \u001b[0m┃\n",
       "┡━━━━━━━━━━━━━━━━━━━━━━━━━━━━━━━━━━╇━━━━━━━━━━━━━━━╇━━━━━━━━━━━━━━╇━━━━━━━━━━━━╇━━━━━━━━━━━┩\n",
       "│ \u001b[2mstring\u001b[0m                           │ \u001b[2mstring\u001b[0m        │ \u001b[2mstring\u001b[0m       │ \u001b[2mfloat32\u001b[0m    │ \u001b[2mfloat32\u001b[0m   │\n",
       "├──────────────────────────────────┼───────────────┼──────────────┼────────────┼───────────┤\n",
       "│ \u001b[32m08b8f2cb5a88cfff0002b59c6f1f847f\u001b[0m │ \u001b[32mservices     \u001b[0m │ \u001b[32mhospital    \u001b[0m │ \u001b[1;36m-79.169258\u001b[0m │ \u001b[1;36m-0.322253\u001b[0m │\n",
       "│ \u001b[32m08b8f2cb53906fff0002bc60315fc2a4\u001b[0m │ \u001b[32mservices     \u001b[0m │ \u001b[32mhospital    \u001b[0m │ \u001b[1;36m-79.183823\u001b[0m │ \u001b[1;36m-0.279552\u001b[0m │\n",
       "│ \u001b[32m08b8f2cb544a9fff0002ba029aa3e3f7\u001b[0m │ \u001b[32mmanufacturing\u001b[0m │ \u001b[32mconstruction\u001b[0m │ \u001b[1;36m-79.192764\u001b[0m │ \u001b[1;36m-0.246977\u001b[0m │\n",
       "│ \u001b[32m08b8f2cb55520fff0002ba12c2d8f45a\u001b[0m │ \u001b[32mservices     \u001b[0m │ \u001b[32mhospital    \u001b[0m │ \u001b[1;36m-79.171303\u001b[0m │ \u001b[1;36m-0.254928\u001b[0m │\n",
       "│ \u001b[32m08b8f2cb55cabfff0002b2bef7ab4325\u001b[0m │ \u001b[32mservices     \u001b[0m │ \u001b[32mretail      \u001b[0m │ \u001b[1;36m-79.170494\u001b[0m │ \u001b[1;36m-0.253329\u001b[0m │\n",
       "└──────────────────────────────────┴───────────────┴──────────────┴────────────┴───────────┘"
      ]
     },
     "execution_count": 24,
     "metadata": {},
     "output_type": "execute_result"
    }
   ],
   "source": [
    "places_isic.head()"
   ]
  },
  {
   "cell_type": "code",
   "execution_count": 25,
   "metadata": {},
   "outputs": [
    {
     "data": {
      "text/html": [
       "<pre style=\"white-space:pre;overflow-x:auto;line-height:normal;font-family:Menlo,'DejaVu Sans Mono',consolas,'Courier New',monospace\">┏━━━━━━━━━━━━━━━┳━━━━━━━━━━━━┓\n",
       "┃<span style=\"font-weight: bold\"> dose          </span>┃<span style=\"font-weight: bold\"> dose_count </span>┃\n",
       "┡━━━━━━━━━━━━━━━╇━━━━━━━━━━━━┩\n",
       "│ <span style=\"color: #7f7f7f; text-decoration-color: #7f7f7f\">string</span>        │ <span style=\"color: #7f7f7f; text-decoration-color: #7f7f7f\">int64</span>      │\n",
       "├───────────────┼────────────┤\n",
       "│ <span style=\"color: #008000; text-decoration-color: #008000\">services     </span> │   <span style=\"color: #008080; text-decoration-color: #008080; font-weight: bold\">26700300</span> │\n",
       "│ <span style=\"color: #008000; text-decoration-color: #008000\">manufacturing</span> │    <span style=\"color: #008080; text-decoration-color: #008080; font-weight: bold\">5263304</span> │\n",
       "│ <span style=\"color: #008000; text-decoration-color: #008000\">agriculture  </span> │   <span style=\"color: #008080; text-decoration-color: #008080; font-weight: bold\">10617300</span> │\n",
       "└───────────────┴────────────┘\n",
       "</pre>\n"
      ],
      "text/plain": [
       "┏━━━━━━━━━━━━━━━┳━━━━━━━━━━━━┓\n",
       "┃\u001b[1m \u001b[0m\u001b[1mdose\u001b[0m\u001b[1m         \u001b[0m\u001b[1m \u001b[0m┃\u001b[1m \u001b[0m\u001b[1mdose_count\u001b[0m\u001b[1m \u001b[0m┃\n",
       "┡━━━━━━━━━━━━━━━╇━━━━━━━━━━━━┩\n",
       "│ \u001b[2mstring\u001b[0m        │ \u001b[2mint64\u001b[0m      │\n",
       "├───────────────┼────────────┤\n",
       "│ \u001b[32mservices     \u001b[0m │   \u001b[1;36m26700300\u001b[0m │\n",
       "│ \u001b[32mmanufacturing\u001b[0m │    \u001b[1;36m5263304\u001b[0m │\n",
       "│ \u001b[32magriculture  \u001b[0m │   \u001b[1;36m10617300\u001b[0m │\n",
       "└───────────────┴────────────┘"
      ]
     },
     "execution_count": 25,
     "metadata": {},
     "output_type": "execute_result"
    }
   ],
   "source": [
    "places_isic.dose.value_counts()"
   ]
  },
  {
   "cell_type": "code",
   "execution_count": 26,
   "metadata": {},
   "outputs": [
    {
     "data": {
      "text/html": [
       "<pre style=\"white-space:pre;overflow-x:auto;line-height:normal;font-family:Menlo,'DejaVu Sans Mono',consolas,'Courier New',monospace\">┏━━━━━━━━━━━━━━━━━━━━━━━━━━━━━━━━━━┳━━━━━━━━━━━━━━━┳━━━━━━━━━━━━━━┳━━━━━━━━━━━━┳━━━━━━━━━━━┓\n",
       "┃<span style=\"font-weight: bold\"> id                               </span>┃<span style=\"font-weight: bold\"> dose          </span>┃<span style=\"font-weight: bold\"> sec_cat      </span>┃<span style=\"font-weight: bold\"> x          </span>┃<span style=\"font-weight: bold\"> y         </span>┃\n",
       "┡━━━━━━━━━━━━━━━━━━━━━━━━━━━━━━━━━━╇━━━━━━━━━━━━━━━╇━━━━━━━━━━━━━━╇━━━━━━━━━━━━╇━━━━━━━━━━━┩\n",
       "│ <span style=\"color: #7f7f7f; text-decoration-color: #7f7f7f\">string</span>                           │ <span style=\"color: #7f7f7f; text-decoration-color: #7f7f7f\">string</span>        │ <span style=\"color: #7f7f7f; text-decoration-color: #7f7f7f\">string</span>       │ <span style=\"color: #7f7f7f; text-decoration-color: #7f7f7f\">float32</span>    │ <span style=\"color: #7f7f7f; text-decoration-color: #7f7f7f\">float32</span>   │\n",
       "├──────────────────────────────────┼───────────────┼──────────────┼────────────┼───────────┤\n",
       "│ <span style=\"color: #008000; text-decoration-color: #008000\">08b8f2cb544a9fff0002ba029aa3e3f7</span> │ <span style=\"color: #008000; text-decoration-color: #008000\">manufacturing</span> │ <span style=\"color: #008000; text-decoration-color: #008000\">construction</span> │ <span style=\"color: #008080; text-decoration-color: #008080; font-weight: bold\">-79.192764</span> │ <span style=\"color: #008080; text-decoration-color: #008080; font-weight: bold\">-0.246977</span> │\n",
       "│ <span style=\"color: #008000; text-decoration-color: #008000\">08b8f2cb52b9bfff0002b19312ea6ab3</span> │ <span style=\"color: #008000; text-decoration-color: #008000\">manufacturing</span> │ <span style=\"color: #008000; text-decoration-color: #008000\">industrial  </span> │ <span style=\"color: #008080; text-decoration-color: #008080; font-weight: bold\">-79.200867</span> │ <span style=\"color: #008080; text-decoration-color: #008080; font-weight: bold\">-0.276154</span> │\n",
       "│ <span style=\"color: #008000; text-decoration-color: #008000\">08b8f2cb52b5afff0002b7bb7632958a</span> │ <span style=\"color: #008000; text-decoration-color: #008000\">manufacturing</span> │ <span style=\"color: #008000; text-decoration-color: #008000\">industrial  </span> │ <span style=\"color: #008080; text-decoration-color: #008080; font-weight: bold\">-79.195312</span> │ <span style=\"color: #008080; text-decoration-color: #008080; font-weight: bold\">-0.276687</span> │\n",
       "│ <span style=\"color: #008000; text-decoration-color: #008000\">08b8f2cb50480fff0002be088029736e</span> │ <span style=\"color: #008000; text-decoration-color: #008000\">manufacturing</span> │ <span style=\"color: #008000; text-decoration-color: #008000\">industrial  </span> │ <span style=\"color: #008080; text-decoration-color: #008080; font-weight: bold\">-79.196762</span> │ <span style=\"color: #008080; text-decoration-color: #008080; font-weight: bold\">-0.270203</span> │\n",
       "│ <span style=\"color: #008000; text-decoration-color: #008000\">08b8f2cb4248afff0002b37caa41b6a4</span> │ <span style=\"color: #008000; text-decoration-color: #008000\">manufacturing</span> │ <span style=\"color: #008000; text-decoration-color: #008000\">industrial  </span> │ <span style=\"color: #008080; text-decoration-color: #008080; font-weight: bold\">-79.155678</span> │ <span style=\"color: #008080; text-decoration-color: #008080; font-weight: bold\">-0.275980</span> │\n",
       "│ <span style=\"color: #008000; text-decoration-color: #008000\">08b8f2cb51959fff0002be0e815169f9</span> │ <span style=\"color: #008000; text-decoration-color: #008000\">manufacturing</span> │ <span style=\"color: #008000; text-decoration-color: #008000\">industrial  </span> │ <span style=\"color: #008080; text-decoration-color: #008080; font-weight: bold\">-79.158974</span> │ <span style=\"color: #008080; text-decoration-color: #008080; font-weight: bold\">-0.274025</span> │\n",
       "│ <span style=\"color: #008000; text-decoration-color: #008000\">08b8f2cb41885fff0002b7086fd8655f</span> │ <span style=\"color: #008000; text-decoration-color: #008000\">manufacturing</span> │ <span style=\"color: #008000; text-decoration-color: #008000\">industrial  </span> │ <span style=\"color: #008080; text-decoration-color: #008080; font-weight: bold\">-79.103302</span> │ <span style=\"color: #008080; text-decoration-color: #008080; font-weight: bold\">-0.270755</span> │\n",
       "│ <span style=\"color: #008000; text-decoration-color: #008000\">08b8f2cb560c3fff0002b9f363557eee</span> │ <span style=\"color: #008000; text-decoration-color: #008000\">manufacturing</span> │ <span style=\"color: #008000; text-decoration-color: #008000\">industrial  </span> │ <span style=\"color: #008080; text-decoration-color: #008080; font-weight: bold\">-79.204689</span> │ <span style=\"color: #008080; text-decoration-color: #008080; font-weight: bold\">-0.257691</span> │\n",
       "│ <span style=\"color: #008000; text-decoration-color: #008000\">08b8f2cb5616afff0002b3bddd22ee6b</span> │ <span style=\"color: #008000; text-decoration-color: #008000\">manufacturing</span> │ <span style=\"color: #008000; text-decoration-color: #008000\">industrial  </span> │ <span style=\"color: #008080; text-decoration-color: #008080; font-weight: bold\">-79.200165</span> │ <span style=\"color: #008080; text-decoration-color: #008080; font-weight: bold\">-0.253032</span> │\n",
       "│ <span style=\"color: #008000; text-decoration-color: #008000\">08b8f2cb544dcfff0002b193c85d2fb5</span> │ <span style=\"color: #008000; text-decoration-color: #008000\">manufacturing</span> │ <span style=\"color: #008000; text-decoration-color: #008000\">industrial  </span> │ <span style=\"color: #008080; text-decoration-color: #008080; font-weight: bold\">-79.192474</span> │ <span style=\"color: #008080; text-decoration-color: #008080; font-weight: bold\">-0.249423</span> │\n",
       "│ <span style=\"color: #7f7f7f; text-decoration-color: #7f7f7f\">…</span>                                │ <span style=\"color: #7f7f7f; text-decoration-color: #7f7f7f\">…</span>             │ <span style=\"color: #7f7f7f; text-decoration-color: #7f7f7f\">…</span>            │          <span style=\"color: #7f7f7f; text-decoration-color: #7f7f7f\">…</span> │         <span style=\"color: #7f7f7f; text-decoration-color: #7f7f7f\">…</span> │\n",
       "└──────────────────────────────────┴───────────────┴──────────────┴────────────┴───────────┘\n",
       "</pre>\n"
      ],
      "text/plain": [
       "┏━━━━━━━━━━━━━━━━━━━━━━━━━━━━━━━━━━┳━━━━━━━━━━━━━━━┳━━━━━━━━━━━━━━┳━━━━━━━━━━━━┳━━━━━━━━━━━┓\n",
       "┃\u001b[1m \u001b[0m\u001b[1mid\u001b[0m\u001b[1m                              \u001b[0m\u001b[1m \u001b[0m┃\u001b[1m \u001b[0m\u001b[1mdose\u001b[0m\u001b[1m         \u001b[0m\u001b[1m \u001b[0m┃\u001b[1m \u001b[0m\u001b[1msec_cat\u001b[0m\u001b[1m     \u001b[0m\u001b[1m \u001b[0m┃\u001b[1m \u001b[0m\u001b[1mx\u001b[0m\u001b[1m         \u001b[0m\u001b[1m \u001b[0m┃\u001b[1m \u001b[0m\u001b[1my\u001b[0m\u001b[1m        \u001b[0m\u001b[1m \u001b[0m┃\n",
       "┡━━━━━━━━━━━━━━━━━━━━━━━━━━━━━━━━━━╇━━━━━━━━━━━━━━━╇━━━━━━━━━━━━━━╇━━━━━━━━━━━━╇━━━━━━━━━━━┩\n",
       "│ \u001b[2mstring\u001b[0m                           │ \u001b[2mstring\u001b[0m        │ \u001b[2mstring\u001b[0m       │ \u001b[2mfloat32\u001b[0m    │ \u001b[2mfloat32\u001b[0m   │\n",
       "├──────────────────────────────────┼───────────────┼──────────────┼────────────┼───────────┤\n",
       "│ \u001b[32m08b8f2cb544a9fff0002ba029aa3e3f7\u001b[0m │ \u001b[32mmanufacturing\u001b[0m │ \u001b[32mconstruction\u001b[0m │ \u001b[1;36m-79.192764\u001b[0m │ \u001b[1;36m-0.246977\u001b[0m │\n",
       "│ \u001b[32m08b8f2cb52b9bfff0002b19312ea6ab3\u001b[0m │ \u001b[32mmanufacturing\u001b[0m │ \u001b[32mindustrial  \u001b[0m │ \u001b[1;36m-79.200867\u001b[0m │ \u001b[1;36m-0.276154\u001b[0m │\n",
       "│ \u001b[32m08b8f2cb52b5afff0002b7bb7632958a\u001b[0m │ \u001b[32mmanufacturing\u001b[0m │ \u001b[32mindustrial  \u001b[0m │ \u001b[1;36m-79.195312\u001b[0m │ \u001b[1;36m-0.276687\u001b[0m │\n",
       "│ \u001b[32m08b8f2cb50480fff0002be088029736e\u001b[0m │ \u001b[32mmanufacturing\u001b[0m │ \u001b[32mindustrial  \u001b[0m │ \u001b[1;36m-79.196762\u001b[0m │ \u001b[1;36m-0.270203\u001b[0m │\n",
       "│ \u001b[32m08b8f2cb4248afff0002b37caa41b6a4\u001b[0m │ \u001b[32mmanufacturing\u001b[0m │ \u001b[32mindustrial  \u001b[0m │ \u001b[1;36m-79.155678\u001b[0m │ \u001b[1;36m-0.275980\u001b[0m │\n",
       "│ \u001b[32m08b8f2cb51959fff0002be0e815169f9\u001b[0m │ \u001b[32mmanufacturing\u001b[0m │ \u001b[32mindustrial  \u001b[0m │ \u001b[1;36m-79.158974\u001b[0m │ \u001b[1;36m-0.274025\u001b[0m │\n",
       "│ \u001b[32m08b8f2cb41885fff0002b7086fd8655f\u001b[0m │ \u001b[32mmanufacturing\u001b[0m │ \u001b[32mindustrial  \u001b[0m │ \u001b[1;36m-79.103302\u001b[0m │ \u001b[1;36m-0.270755\u001b[0m │\n",
       "│ \u001b[32m08b8f2cb560c3fff0002b9f363557eee\u001b[0m │ \u001b[32mmanufacturing\u001b[0m │ \u001b[32mindustrial  \u001b[0m │ \u001b[1;36m-79.204689\u001b[0m │ \u001b[1;36m-0.257691\u001b[0m │\n",
       "│ \u001b[32m08b8f2cb5616afff0002b3bddd22ee6b\u001b[0m │ \u001b[32mmanufacturing\u001b[0m │ \u001b[32mindustrial  \u001b[0m │ \u001b[1;36m-79.200165\u001b[0m │ \u001b[1;36m-0.253032\u001b[0m │\n",
       "│ \u001b[32m08b8f2cb544dcfff0002b193c85d2fb5\u001b[0m │ \u001b[32mmanufacturing\u001b[0m │ \u001b[32mindustrial  \u001b[0m │ \u001b[1;36m-79.192474\u001b[0m │ \u001b[1;36m-0.249423\u001b[0m │\n",
       "│ \u001b[2m…\u001b[0m                                │ \u001b[2m…\u001b[0m             │ \u001b[2m…\u001b[0m            │          \u001b[2m…\u001b[0m │         \u001b[2m…\u001b[0m │\n",
       "└──────────────────────────────────┴───────────────┴──────────────┴────────────┴───────────┘"
      ]
     },
     "execution_count": 26,
     "metadata": {},
     "output_type": "execute_result"
    }
   ],
   "source": [
    "places_isic[places_isic.dose==\"manufacturing\"]"
   ]
  },
  {
   "cell_type": "markdown",
   "metadata": {},
   "source": [
    "## Adding econ data"
   ]
  },
  {
   "cell_type": "code",
   "execution_count": 27,
   "metadata": {},
   "outputs": [
    {
     "data": {
      "text/plain": [
       "<duckdb.duckdb.DuckDBPyConnection at 0x106e61630>"
      ]
     },
     "execution_count": 27,
     "metadata": {},
     "output_type": "execute_result"
    }
   ],
   "source": [
    "conn.raw_sql(\n",
    "\"\"\"CREATE OR REPLACE TABLE dose_wdi as (\n",
    "    SELECT * FROM '../datasets/local_data/dose-wdi/0_3/dose_wdi_geo.parquet');\n",
    "\"\"\")"
   ]
  },
  {
   "cell_type": "code",
   "execution_count": 28,
   "metadata": {},
   "outputs": [],
   "source": [
    "dose_wdi = conn.table(\"dose_wdi\")"
   ]
  },
  {
   "cell_type": "code",
   "execution_count": 29,
   "metadata": {},
   "outputs": [],
   "source": [
    "dose_wdi = (\n",
    "    dose_wdi.select(\"gid_0\",\"country\",\"gid_1\",\"grp_usd_2015\",\"services_usd_2015\",\"manufacturing_usd_2015\",\"agriculture_usd_2015\",\"geometry\",\"x\",\"y\")\n",
    "    .filter(_.x>bbox[0],\n",
    "            _.x<bbox[2],\n",
    "            _.y>bbox[1],\n",
    "            _.y<bbox[3])\n",
    ")"
   ]
  },
  {
   "cell_type": "code",
   "execution_count": 30,
   "metadata": {},
   "outputs": [
    {
     "data": {
      "text/html": [
       "<pre style=\"white-space:pre;overflow-x:auto;line-height:normal;font-family:Menlo,'DejaVu Sans Mono',consolas,'Courier New',monospace\"></pre>\n"
      ],
      "text/plain": []
     },
     "metadata": {},
     "output_type": "display_data"
    },
    {
     "name": "stdout",
     "output_type": "stream",
     "text": [
      "┌──────┐\n",
      "│ \u001b[1;36m1649\u001b[0m │\n",
      "└──────┘\n"
     ]
    },
    {
     "data": {
      "text/html": [
       "<pre style=\"white-space:pre;overflow-x:auto;line-height:normal;font-family:Menlo,'DejaVu Sans Mono',consolas,'Courier New',monospace\">┏━━━━━━━━┳━━━━━━━━━┳━━━━━━━━━┳━━━━━━━━━━━━━━┳━━━━━━━━━━━━━━━━━━━┳━━━━━━━━━━━━━━━━━━━━━━━━┳━━━━━━━━━━━━━━━━━━━━━━┳━━━━━━━━━━━━━━━━━━━━━━━━━━━━━━━━━━━━━━━━━━━━━━━━━━━━━━━━━━━━━━━━━━━━━━━━━━━━━━━━━━┳━━━━━━━━━━━┳━━━━━━━━━━━┓\n",
       "┃<span style=\"font-weight: bold\"> gid_0  </span>┃<span style=\"font-weight: bold\"> country </span>┃<span style=\"font-weight: bold\"> gid_1   </span>┃<span style=\"font-weight: bold\"> grp_usd_2015 </span>┃<span style=\"font-weight: bold\"> services_usd_2015 </span>┃<span style=\"font-weight: bold\"> manufacturing_usd_2015 </span>┃<span style=\"font-weight: bold\"> agriculture_usd_2015 </span>┃<span style=\"font-weight: bold\"> geometry                                                                         </span>┃<span style=\"font-weight: bold\"> x         </span>┃<span style=\"font-weight: bold\"> y         </span>┃\n",
       "┡━━━━━━━━╇━━━━━━━━━╇━━━━━━━━━╇━━━━━━━━━━━━━━╇━━━━━━━━━━━━━━━━━━━╇━━━━━━━━━━━━━━━━━━━━━━━━╇━━━━━━━━━━━━━━━━━━━━━━╇━━━━━━━━━━━━━━━━━━━━━━━━━━━━━━━━━━━━━━━━━━━━━━━━━━━━━━━━━━━━━━━━━━━━━━━━━━━━━━━━━━╇━━━━━━━━━━━╇━━━━━━━━━━━┩\n",
       "│ <span style=\"color: #7f7f7f; text-decoration-color: #7f7f7f\">string</span> │ <span style=\"color: #7f7f7f; text-decoration-color: #7f7f7f\">string</span>  │ <span style=\"color: #7f7f7f; text-decoration-color: #7f7f7f\">string</span>  │ <span style=\"color: #7f7f7f; text-decoration-color: #7f7f7f\">float64</span>      │ <span style=\"color: #7f7f7f; text-decoration-color: #7f7f7f\">float64</span>           │ <span style=\"color: #7f7f7f; text-decoration-color: #7f7f7f\">float64</span>                │ <span style=\"color: #7f7f7f; text-decoration-color: #7f7f7f\">float64</span>              │ <span style=\"color: #7f7f7f; text-decoration-color: #7f7f7f\">geospatial:geometry</span>                                                              │ <span style=\"color: #7f7f7f; text-decoration-color: #7f7f7f\">float64</span>   │ <span style=\"color: #7f7f7f; text-decoration-color: #7f7f7f\">float64</span>   │\n",
       "├────────┼─────────┼─────────┼──────────────┼───────────────────┼────────────────────────┼──────────────────────┼──────────────────────────────────────────────────────────────────────────────────┼───────────┼───────────┤\n",
       "│ <span style=\"color: #008000; text-decoration-color: #008000\">ALB   </span> │ <span style=\"color: #008000; text-decoration-color: #008000\">Albania</span> │ <span style=\"color: #008000; text-decoration-color: #008000\">ALB.1_1</span> │ <span style=\"color: #008080; text-decoration-color: #008080; font-weight: bold\">4.341915e+08</span> │      <span style=\"color: #008080; text-decoration-color: #008080; font-weight: bold\">2.009631e+08</span> │           <span style=\"color: #008080; text-decoration-color: #008080; font-weight: bold\">9.449606e+07</span> │         <span style=\"color: #008080; text-decoration-color: #008080; font-weight: bold\">8.588401e+07</span> │ <span style=\"font-weight: bold\">&lt;</span><span style=\"color: #ff00ff; text-decoration-color: #ff00ff; font-weight: bold\">POLYGON</span><span style=\"color: #000000; text-decoration-color: #000000\"> </span><span style=\"color: #000000; text-decoration-color: #000000; font-weight: bold\">((</span><span style=\"color: #008080; text-decoration-color: #008080; font-weight: bold\">20.379</span><span style=\"color: #000000; text-decoration-color: #000000\"> </span><span style=\"color: #008080; text-decoration-color: #008080; font-weight: bold\">40.435</span><span style=\"color: #000000; text-decoration-color: #000000\">, </span><span style=\"color: #008080; text-decoration-color: #008080; font-weight: bold\">20.377</span><span style=\"color: #000000; text-decoration-color: #000000\"> </span><span style=\"color: #008080; text-decoration-color: #008080; font-weight: bold\">40.436</span><span style=\"color: #000000; text-decoration-color: #000000\">, </span><span style=\"color: #008080; text-decoration-color: #008080; font-weight: bold\">20.373</span><span style=\"color: #000000; text-decoration-color: #000000\"> </span><span style=\"color: #008080; text-decoration-color: #008080; font-weight: bold\">40.437</span><span style=\"color: #000000; text-decoration-color: #000000\">, </span><span style=\"color: #008080; text-decoration-color: #008080; font-weight: bold\">20.369</span><span style=\"color: #000000; text-decoration-color: #000000\"> </span><span style=\"color: #008080; text-decoration-color: #008080; font-weight: bold\">40.438</span><span style=\"color: #000000; text-decoration-color: #000000\">, </span><span style=\"color: #008080; text-decoration-color: #008080; font-weight: bold\">20.36</span><span style=\"color: #808000; text-decoration-color: #808000\">...</span><span style=\"font-weight: bold\">&gt;</span> │ <span style=\"color: #008080; text-decoration-color: #008080; font-weight: bold\">20.090775</span> │ <span style=\"color: #008080; text-decoration-color: #008080; font-weight: bold\">40.628500</span> │\n",
       "│ <span style=\"color: #008000; text-decoration-color: #008000\">ALB   </span> │ <span style=\"color: #008000; text-decoration-color: #008000\">Albania</span> │ <span style=\"color: #008000; text-decoration-color: #008000\">ALB.2_1</span> │ <span style=\"color: #008080; text-decoration-color: #008080; font-weight: bold\">3.719427e+08</span> │      <span style=\"color: #008080; text-decoration-color: #008080; font-weight: bold\">1.721516e+08</span> │           <span style=\"color: #008080; text-decoration-color: #008080; font-weight: bold\">8.094841e+07</span> │         <span style=\"color: #008080; text-decoration-color: #008080; font-weight: bold\">7.357106e+07</span> │ <span style=\"font-weight: bold\">&lt;</span><span style=\"color: #ff00ff; text-decoration-color: #ff00ff; font-weight: bold\">POLYGON</span><span style=\"color: #000000; text-decoration-color: #000000\"> </span><span style=\"color: #000000; text-decoration-color: #000000; font-weight: bold\">((</span><span style=\"color: #008080; text-decoration-color: #008080; font-weight: bold\">20.422</span><span style=\"color: #000000; text-decoration-color: #000000\"> </span><span style=\"color: #008080; text-decoration-color: #008080; font-weight: bold\">41.282</span><span style=\"color: #000000; text-decoration-color: #000000\">, </span><span style=\"color: #008080; text-decoration-color: #008080; font-weight: bold\">20.423</span><span style=\"color: #000000; text-decoration-color: #000000\"> </span><span style=\"color: #008080; text-decoration-color: #008080; font-weight: bold\">41.282</span><span style=\"color: #000000; text-decoration-color: #000000\">, </span><span style=\"color: #008080; text-decoration-color: #008080; font-weight: bold\">20.422</span><span style=\"color: #000000; text-decoration-color: #000000\"> </span><span style=\"color: #008080; text-decoration-color: #008080; font-weight: bold\">41.283</span><span style=\"color: #000000; text-decoration-color: #000000\">, </span><span style=\"color: #008080; text-decoration-color: #008080; font-weight: bold\">20.421</span><span style=\"color: #000000; text-decoration-color: #000000\"> </span><span style=\"color: #008080; text-decoration-color: #008080; font-weight: bold\">41.284</span><span style=\"color: #000000; text-decoration-color: #000000\">, </span><span style=\"color: #008080; text-decoration-color: #008080; font-weight: bold\">20.42</span><span style=\"color: #808000; text-decoration-color: #808000\">...</span><span style=\"font-weight: bold\">&gt;</span> │ <span style=\"color: #008080; text-decoration-color: #008080; font-weight: bold\">20.249534</span> │ <span style=\"color: #008080; text-decoration-color: #008080; font-weight: bold\">41.589105</span> │\n",
       "│ <span style=\"color: #008000; text-decoration-color: #008000\">ALB   </span> │ <span style=\"color: #008000; text-decoration-color: #008000\">Albania</span> │ <span style=\"color: #008000; text-decoration-color: #008000\">ALB.3_1</span> │ <span style=\"color: #008080; text-decoration-color: #008080; font-weight: bold\">1.113524e+09</span> │      <span style=\"color: #008080; text-decoration-color: #008080; font-weight: bold\">5.153885e+08</span> │           <span style=\"color: #008080; text-decoration-color: #008080; font-weight: bold\">2.423439e+08</span> │         <span style=\"color: #008080; text-decoration-color: #008080; font-weight: bold\">2.202575e+08</span> │ <span style=\"font-weight: bold\">&lt;</span><span style=\"color: #ff00ff; text-decoration-color: #ff00ff; font-weight: bold\">POLYGON</span><span style=\"color: #000000; text-decoration-color: #000000\"> </span><span style=\"color: #000000; text-decoration-color: #000000; font-weight: bold\">((</span><span style=\"color: #008080; text-decoration-color: #008080; font-weight: bold\">19.638</span><span style=\"color: #000000; text-decoration-color: #000000\"> </span><span style=\"color: #008080; text-decoration-color: #008080; font-weight: bold\">41.341</span><span style=\"color: #000000; text-decoration-color: #000000\">, </span><span style=\"color: #008080; text-decoration-color: #008080; font-weight: bold\">19.636</span><span style=\"color: #000000; text-decoration-color: #000000\"> </span><span style=\"color: #008080; text-decoration-color: #008080; font-weight: bold\">41.337</span><span style=\"color: #000000; text-decoration-color: #000000\">, </span><span style=\"color: #008080; text-decoration-color: #008080; font-weight: bold\">19.637</span><span style=\"color: #000000; text-decoration-color: #000000\"> </span><span style=\"color: #008080; text-decoration-color: #008080; font-weight: bold\">41.335</span><span style=\"color: #000000; text-decoration-color: #000000\">, </span><span style=\"color: #008080; text-decoration-color: #008080; font-weight: bold\">19.64</span><span style=\"color: #000000; text-decoration-color: #000000\"> </span><span style=\"color: #008080; text-decoration-color: #008080; font-weight: bold\">41.33</span><span style=\"color: #000000; text-decoration-color: #000000\">, </span><span style=\"color: #008080; text-decoration-color: #008080; font-weight: bold\">19.642</span><span style=\"color: #000000; text-decoration-color: #000000\"> </span><span style=\"color: #808000; text-decoration-color: #808000\">...</span><span style=\"font-weight: bold\">&gt;</span> │ <span style=\"color: #008080; text-decoration-color: #008080; font-weight: bold\">19.630373</span> │ <span style=\"color: #008080; text-decoration-color: #008080; font-weight: bold\">41.447333</span> │\n",
       "│ <span style=\"color: #008000; text-decoration-color: #008000\">ALB   </span> │ <span style=\"color: #008000; text-decoration-color: #008000\">Albania</span> │ <span style=\"color: #008000; text-decoration-color: #008000\">ALB.4_1</span> │ <span style=\"color: #008080; text-decoration-color: #008080; font-weight: bold\">7.954835e+08</span> │      <span style=\"color: #008080; text-decoration-color: #008080; font-weight: bold\">3.681851e+08</span> │           <span style=\"color: #008080; text-decoration-color: #008080; font-weight: bold\">1.731265e+08</span> │         <span style=\"color: #008080; text-decoration-color: #008080; font-weight: bold\">1.573483e+08</span> │ <span style=\"font-weight: bold\">&lt;</span><span style=\"color: #ff00ff; text-decoration-color: #ff00ff; font-weight: bold\">POLYGON</span><span style=\"color: #000000; text-decoration-color: #000000\"> </span><span style=\"color: #000000; text-decoration-color: #000000; font-weight: bold\">((</span><span style=\"color: #008080; text-decoration-color: #008080; font-weight: bold\">20.437</span><span style=\"color: #000000; text-decoration-color: #000000\"> </span><span style=\"color: #008080; text-decoration-color: #008080; font-weight: bold\">40.849</span><span style=\"color: #000000; text-decoration-color: #000000\">, </span><span style=\"color: #008080; text-decoration-color: #008080; font-weight: bold\">20.437</span><span style=\"color: #000000; text-decoration-color: #000000\"> </span><span style=\"color: #008080; text-decoration-color: #008080; font-weight: bold\">40.848</span><span style=\"color: #000000; text-decoration-color: #000000\">, </span><span style=\"color: #008080; text-decoration-color: #008080; font-weight: bold\">20.44</span><span style=\"color: #000000; text-decoration-color: #000000\"> </span><span style=\"color: #008080; text-decoration-color: #008080; font-weight: bold\">40.847</span><span style=\"color: #000000; text-decoration-color: #000000\">, </span><span style=\"color: #008080; text-decoration-color: #008080; font-weight: bold\">20.441</span><span style=\"color: #000000; text-decoration-color: #000000\"> </span><span style=\"color: #008080; text-decoration-color: #008080; font-weight: bold\">40.841</span><span style=\"color: #000000; text-decoration-color: #000000\">, </span><span style=\"color: #008080; text-decoration-color: #008080; font-weight: bold\">20.446</span><span style=\"color: #808000; text-decoration-color: #808000\">...</span><span style=\"font-weight: bold\">&gt;</span> │ <span style=\"color: #008080; text-decoration-color: #008080; font-weight: bold\">20.186454</span> │ <span style=\"color: #008080; text-decoration-color: #008080; font-weight: bold\">41.040028</span> │\n",
       "│ <span style=\"color: #008000; text-decoration-color: #008000\">ALB   </span> │ <span style=\"color: #008000; text-decoration-color: #008000\">Albania</span> │ <span style=\"color: #008000; text-decoration-color: #008000\">ALB.5_1</span> │ <span style=\"color: #008080; text-decoration-color: #008080; font-weight: bold\">1.345159e+09</span> │      <span style=\"color: #008080; text-decoration-color: #008080; font-weight: bold\">6.225993e+08</span> │           <span style=\"color: #008080; text-decoration-color: #008080; font-weight: bold\">2.927561e+08</span> │         <span style=\"color: #008080; text-decoration-color: #008080; font-weight: bold\">2.660753e+08</span> │ <span style=\"font-weight: bold\">&lt;</span><span style=\"color: #ff00ff; text-decoration-color: #ff00ff; font-weight: bold\">POLYGON</span><span style=\"color: #000000; text-decoration-color: #000000\"> </span><span style=\"color: #000000; text-decoration-color: #000000; font-weight: bold\">((</span><span style=\"color: #008080; text-decoration-color: #008080; font-weight: bold\">19.744</span><span style=\"color: #000000; text-decoration-color: #000000\"> </span><span style=\"color: #008080; text-decoration-color: #008080; font-weight: bold\">40.452</span><span style=\"color: #000000; text-decoration-color: #000000\">, </span><span style=\"color: #008080; text-decoration-color: #008080; font-weight: bold\">19.745</span><span style=\"color: #000000; text-decoration-color: #000000\"> </span><span style=\"color: #008080; text-decoration-color: #008080; font-weight: bold\">40.457</span><span style=\"color: #000000; text-decoration-color: #000000\">, </span><span style=\"color: #008080; text-decoration-color: #008080; font-weight: bold\">19.743</span><span style=\"color: #000000; text-decoration-color: #000000\"> </span><span style=\"color: #008080; text-decoration-color: #008080; font-weight: bold\">40.459</span><span style=\"color: #000000; text-decoration-color: #000000\">, </span><span style=\"color: #008080; text-decoration-color: #008080; font-weight: bold\">19.741</span><span style=\"color: #000000; text-decoration-color: #000000\"> </span><span style=\"color: #008080; text-decoration-color: #008080; font-weight: bold\">40.462</span><span style=\"color: #000000; text-decoration-color: #000000\">, </span><span style=\"color: #008080; text-decoration-color: #008080; font-weight: bold\">19.73</span><span style=\"color: #808000; text-decoration-color: #808000\">...</span><span style=\"font-weight: bold\">&gt;</span> │ <span style=\"color: #008080; text-decoration-color: #008080; font-weight: bold\">19.620528</span> │ <span style=\"color: #008080; text-decoration-color: #008080; font-weight: bold\">40.774633</span> │\n",
       "└────────┴─────────┴─────────┴──────────────┴───────────────────┴────────────────────────┴──────────────────────┴──────────────────────────────────────────────────────────────────────────────────┴───────────┴───────────┘\n",
       "</pre>\n"
      ],
      "text/plain": [
       "┏━━━━━━━━┳━━━━━━━━━┳━━━━━━━━━┳━━━━━━━━━━━━━━┳━━━━━━━━━━━━━━━━━━━┳━━━━━━━━━━━━━━━━━━━━━━━━┳━━━━━━━━━━━━━━━━━━━━━━┳━━━━━━━━━━━━━━━━━━━━━━━━━━━━━━━━━━━━━━━━━━━━━━━━━━━━━━━━━━━━━━━━━━━━━━━━━━━━━━━━━━┳━━━━━━━━━━━┳━━━━━━━━━━━┓\n",
       "┃\u001b[1m \u001b[0m\u001b[1mgid_0\u001b[0m\u001b[1m \u001b[0m\u001b[1m \u001b[0m┃\u001b[1m \u001b[0m\u001b[1mcountry\u001b[0m\u001b[1m \u001b[0m┃\u001b[1m \u001b[0m\u001b[1mgid_1\u001b[0m\u001b[1m  \u001b[0m\u001b[1m \u001b[0m┃\u001b[1m \u001b[0m\u001b[1mgrp_usd_2015\u001b[0m\u001b[1m \u001b[0m┃\u001b[1m \u001b[0m\u001b[1mservices_usd_2015\u001b[0m\u001b[1m \u001b[0m┃\u001b[1m \u001b[0m\u001b[1mmanufacturing_usd_2015\u001b[0m\u001b[1m \u001b[0m┃\u001b[1m \u001b[0m\u001b[1magriculture_usd_2015\u001b[0m\u001b[1m \u001b[0m┃\u001b[1m \u001b[0m\u001b[1mgeometry\u001b[0m\u001b[1m                                                                        \u001b[0m\u001b[1m \u001b[0m┃\u001b[1m \u001b[0m\u001b[1mx\u001b[0m\u001b[1m        \u001b[0m\u001b[1m \u001b[0m┃\u001b[1m \u001b[0m\u001b[1my\u001b[0m\u001b[1m        \u001b[0m\u001b[1m \u001b[0m┃\n",
       "┡━━━━━━━━╇━━━━━━━━━╇━━━━━━━━━╇━━━━━━━━━━━━━━╇━━━━━━━━━━━━━━━━━━━╇━━━━━━━━━━━━━━━━━━━━━━━━╇━━━━━━━━━━━━━━━━━━━━━━╇━━━━━━━━━━━━━━━━━━━━━━━━━━━━━━━━━━━━━━━━━━━━━━━━━━━━━━━━━━━━━━━━━━━━━━━━━━━━━━━━━━╇━━━━━━━━━━━╇━━━━━━━━━━━┩\n",
       "│ \u001b[2mstring\u001b[0m │ \u001b[2mstring\u001b[0m  │ \u001b[2mstring\u001b[0m  │ \u001b[2mfloat64\u001b[0m      │ \u001b[2mfloat64\u001b[0m           │ \u001b[2mfloat64\u001b[0m                │ \u001b[2mfloat64\u001b[0m              │ \u001b[2mgeospatial:geometry\u001b[0m                                                              │ \u001b[2mfloat64\u001b[0m   │ \u001b[2mfloat64\u001b[0m   │\n",
       "├────────┼─────────┼─────────┼──────────────┼───────────────────┼────────────────────────┼──────────────────────┼──────────────────────────────────────────────────────────────────────────────────┼───────────┼───────────┤\n",
       "│ \u001b[32mALB   \u001b[0m │ \u001b[32mAlbania\u001b[0m │ \u001b[32mALB.1_1\u001b[0m │ \u001b[1;36m4.341915e+08\u001b[0m │      \u001b[1;36m2.009631e+08\u001b[0m │           \u001b[1;36m9.449606e+07\u001b[0m │         \u001b[1;36m8.588401e+07\u001b[0m │ \u001b[1m<\u001b[0m\u001b[1;95mPOLYGON\u001b[0m\u001b[39m \u001b[0m\u001b[1;39m(\u001b[0m\u001b[1;39m(\u001b[0m\u001b[1;36m20.379\u001b[0m\u001b[39m \u001b[0m\u001b[1;36m40.435\u001b[0m\u001b[39m, \u001b[0m\u001b[1;36m20.377\u001b[0m\u001b[39m \u001b[0m\u001b[1;36m40.436\u001b[0m\u001b[39m, \u001b[0m\u001b[1;36m20.373\u001b[0m\u001b[39m \u001b[0m\u001b[1;36m40.437\u001b[0m\u001b[39m, \u001b[0m\u001b[1;36m20.369\u001b[0m\u001b[39m \u001b[0m\u001b[1;36m40.438\u001b[0m\u001b[39m, \u001b[0m\u001b[1;36m20.36\u001b[0m\u001b[33m...\u001b[0m\u001b[1m>\u001b[0m │ \u001b[1;36m20.090775\u001b[0m │ \u001b[1;36m40.628500\u001b[0m │\n",
       "│ \u001b[32mALB   \u001b[0m │ \u001b[32mAlbania\u001b[0m │ \u001b[32mALB.2_1\u001b[0m │ \u001b[1;36m3.719427e+08\u001b[0m │      \u001b[1;36m1.721516e+08\u001b[0m │           \u001b[1;36m8.094841e+07\u001b[0m │         \u001b[1;36m7.357106e+07\u001b[0m │ \u001b[1m<\u001b[0m\u001b[1;95mPOLYGON\u001b[0m\u001b[39m \u001b[0m\u001b[1;39m(\u001b[0m\u001b[1;39m(\u001b[0m\u001b[1;36m20.422\u001b[0m\u001b[39m \u001b[0m\u001b[1;36m41.282\u001b[0m\u001b[39m, \u001b[0m\u001b[1;36m20.423\u001b[0m\u001b[39m \u001b[0m\u001b[1;36m41.282\u001b[0m\u001b[39m, \u001b[0m\u001b[1;36m20.422\u001b[0m\u001b[39m \u001b[0m\u001b[1;36m41.283\u001b[0m\u001b[39m, \u001b[0m\u001b[1;36m20.421\u001b[0m\u001b[39m \u001b[0m\u001b[1;36m41.284\u001b[0m\u001b[39m, \u001b[0m\u001b[1;36m20.42\u001b[0m\u001b[33m...\u001b[0m\u001b[1m>\u001b[0m │ \u001b[1;36m20.249534\u001b[0m │ \u001b[1;36m41.589105\u001b[0m │\n",
       "│ \u001b[32mALB   \u001b[0m │ \u001b[32mAlbania\u001b[0m │ \u001b[32mALB.3_1\u001b[0m │ \u001b[1;36m1.113524e+09\u001b[0m │      \u001b[1;36m5.153885e+08\u001b[0m │           \u001b[1;36m2.423439e+08\u001b[0m │         \u001b[1;36m2.202575e+08\u001b[0m │ \u001b[1m<\u001b[0m\u001b[1;95mPOLYGON\u001b[0m\u001b[39m \u001b[0m\u001b[1;39m(\u001b[0m\u001b[1;39m(\u001b[0m\u001b[1;36m19.638\u001b[0m\u001b[39m \u001b[0m\u001b[1;36m41.341\u001b[0m\u001b[39m, \u001b[0m\u001b[1;36m19.636\u001b[0m\u001b[39m \u001b[0m\u001b[1;36m41.337\u001b[0m\u001b[39m, \u001b[0m\u001b[1;36m19.637\u001b[0m\u001b[39m \u001b[0m\u001b[1;36m41.335\u001b[0m\u001b[39m, \u001b[0m\u001b[1;36m19.64\u001b[0m\u001b[39m \u001b[0m\u001b[1;36m41.33\u001b[0m\u001b[39m, \u001b[0m\u001b[1;36m19.642\u001b[0m\u001b[39m \u001b[0m\u001b[33m...\u001b[0m\u001b[1m>\u001b[0m │ \u001b[1;36m19.630373\u001b[0m │ \u001b[1;36m41.447333\u001b[0m │\n",
       "│ \u001b[32mALB   \u001b[0m │ \u001b[32mAlbania\u001b[0m │ \u001b[32mALB.4_1\u001b[0m │ \u001b[1;36m7.954835e+08\u001b[0m │      \u001b[1;36m3.681851e+08\u001b[0m │           \u001b[1;36m1.731265e+08\u001b[0m │         \u001b[1;36m1.573483e+08\u001b[0m │ \u001b[1m<\u001b[0m\u001b[1;95mPOLYGON\u001b[0m\u001b[39m \u001b[0m\u001b[1;39m(\u001b[0m\u001b[1;39m(\u001b[0m\u001b[1;36m20.437\u001b[0m\u001b[39m \u001b[0m\u001b[1;36m40.849\u001b[0m\u001b[39m, \u001b[0m\u001b[1;36m20.437\u001b[0m\u001b[39m \u001b[0m\u001b[1;36m40.848\u001b[0m\u001b[39m, \u001b[0m\u001b[1;36m20.44\u001b[0m\u001b[39m \u001b[0m\u001b[1;36m40.847\u001b[0m\u001b[39m, \u001b[0m\u001b[1;36m20.441\u001b[0m\u001b[39m \u001b[0m\u001b[1;36m40.841\u001b[0m\u001b[39m, \u001b[0m\u001b[1;36m20.446\u001b[0m\u001b[33m...\u001b[0m\u001b[1m>\u001b[0m │ \u001b[1;36m20.186454\u001b[0m │ \u001b[1;36m41.040028\u001b[0m │\n",
       "│ \u001b[32mALB   \u001b[0m │ \u001b[32mAlbania\u001b[0m │ \u001b[32mALB.5_1\u001b[0m │ \u001b[1;36m1.345159e+09\u001b[0m │      \u001b[1;36m6.225993e+08\u001b[0m │           \u001b[1;36m2.927561e+08\u001b[0m │         \u001b[1;36m2.660753e+08\u001b[0m │ \u001b[1m<\u001b[0m\u001b[1;95mPOLYGON\u001b[0m\u001b[39m \u001b[0m\u001b[1;39m(\u001b[0m\u001b[1;39m(\u001b[0m\u001b[1;36m19.744\u001b[0m\u001b[39m \u001b[0m\u001b[1;36m40.452\u001b[0m\u001b[39m, \u001b[0m\u001b[1;36m19.745\u001b[0m\u001b[39m \u001b[0m\u001b[1;36m40.457\u001b[0m\u001b[39m, \u001b[0m\u001b[1;36m19.743\u001b[0m\u001b[39m \u001b[0m\u001b[1;36m40.459\u001b[0m\u001b[39m, \u001b[0m\u001b[1;36m19.741\u001b[0m\u001b[39m \u001b[0m\u001b[1;36m40.462\u001b[0m\u001b[39m, \u001b[0m\u001b[1;36m19.73\u001b[0m\u001b[33m...\u001b[0m\u001b[1m>\u001b[0m │ \u001b[1;36m19.620528\u001b[0m │ \u001b[1;36m40.774633\u001b[0m │\n",
       "└────────┴─────────┴─────────┴──────────────┴───────────────────┴────────────────────────┴──────────────────────┴──────────────────────────────────────────────────────────────────────────────────┴───────────┴───────────┘"
      ]
     },
     "execution_count": 30,
     "metadata": {},
     "output_type": "execute_result"
    }
   ],
   "source": [
    "print(dose_wdi.count())\n",
    "dose_wdi.head()"
   ]
  },
  {
   "cell_type": "markdown",
   "metadata": {},
   "source": [
    "## Spatial join v2\n",
    "\n",
    "This approach first groups features spatially on H3, then pivots the values to get a table with a row for each spatial index and the densities of features in each column. "
   ]
  },
  {
   "cell_type": "code",
   "execution_count": 31,
   "metadata": {},
   "outputs": [
    {
     "data": {
      "text/html": [
       "<pre style=\"white-space:pre;overflow-x:auto;line-height:normal;font-family:Menlo,'DejaVu Sans Mono',consolas,'Courier New',monospace\">┏━━━━━━━━━━━━━━━━━━━━━━━━━━━━━━━━━━┳━━━━━━━━━━━━━━┳━━━━━━━━━━━━┳━━━━━━━━━━━┳━━━━━━━━━━━━━━━┳━━━━━━━━━┳━━━━━━━━━━━━┳━━━━━━━━━━━━━━━━━━━━━━━━━━━━━━━━━━━━━━━━━━━━━━━━━━━━━━━━┳━━━━━━━━━━━━━━━┳━━━━━━━━━━━━━┳━━━━━━━━━━━━━━━━━┓\n",
       "┃<span style=\"font-weight: bold\"> id                               </span>┃<span style=\"font-weight: bold\"> sec_cat      </span>┃<span style=\"font-weight: bold\"> x          </span>┃<span style=\"font-weight: bold\"> y         </span>┃<span style=\"font-weight: bold\"> sec_cat_right </span>┃<span style=\"font-weight: bold\"> section </span>┃<span style=\"font-weight: bold\"> isic_embed </span>┃<span style=\"font-weight: bold\"> isic_descr                                             </span>┃<span style=\"font-weight: bold\"> dose          </span>┃<span style=\"font-weight: bold\"> match_score </span>┃<span style=\"font-weight: bold\"> h3_id           </span>┃\n",
       "┡━━━━━━━━━━━━━━━━━━━━━━━━━━━━━━━━━━╇━━━━━━━━━━━━━━╇━━━━━━━━━━━━╇━━━━━━━━━━━╇━━━━━━━━━━━━━━━╇━━━━━━━━━╇━━━━━━━━━━━━╇━━━━━━━━━━━━━━━━━━━━━━━━━━━━━━━━━━━━━━━━━━━━━━━━━━━━━━━━╇━━━━━━━━━━━━━━━╇━━━━━━━━━━━━━╇━━━━━━━━━━━━━━━━━┩\n",
       "│ <span style=\"color: #7f7f7f; text-decoration-color: #7f7f7f\">string</span>                           │ <span style=\"color: #7f7f7f; text-decoration-color: #7f7f7f\">string</span>       │ <span style=\"color: #7f7f7f; text-decoration-color: #7f7f7f\">float32</span>    │ <span style=\"color: #7f7f7f; text-decoration-color: #7f7f7f\">float32</span>   │ <span style=\"color: #7f7f7f; text-decoration-color: #7f7f7f\">string</span>        │ <span style=\"color: #7f7f7f; text-decoration-color: #7f7f7f\">string</span>  │ <span style=\"color: #7f7f7f; text-decoration-color: #7f7f7f\">string</span>     │ <span style=\"color: #7f7f7f; text-decoration-color: #7f7f7f\">string</span>                                                 │ <span style=\"color: #7f7f7f; text-decoration-color: #7f7f7f\">string</span>        │ <span style=\"color: #7f7f7f; text-decoration-color: #7f7f7f\">float64</span>     │ <span style=\"color: #7f7f7f; text-decoration-color: #7f7f7f\">string</span>          │\n",
       "├──────────────────────────────────┼──────────────┼────────────┼───────────┼───────────────┼─────────┼────────────┼────────────────────────────────────────────────────────┼───────────────┼─────────────┼─────────────────┤\n",
       "│ <span style=\"color: #008000; text-decoration-color: #008000\">08b8f2cb5a88cfff0002b59c6f1f847f</span> │ <span style=\"color: #008000; text-decoration-color: #008000\">hospital    </span> │ <span style=\"color: #008080; text-decoration-color: #008080; font-weight: bold\">-79.169258</span> │ <span style=\"color: #008080; text-decoration-color: #008080; font-weight: bold\">-0.322253</span> │ <span style=\"color: #008000; text-decoration-color: #008000\">hospital     </span> │ <span style=\"color: #008000; text-decoration-color: #008000\">Q      </span> │ <span style=\"color: #008000; text-decoration-color: #008000\">86        </span> │ <span style=\"color: #008000; text-decoration-color: #008000\">Human health activities                               </span> │ <span style=\"color: #008000; text-decoration-color: #008000\">services     </span> │    <span style=\"color: #008080; text-decoration-color: #008080; font-weight: bold\">0.422409</span> │ <span style=\"color: #008000; text-decoration-color: #008000\">8b8f2cb5a88cfff</span> │\n",
       "│ <span style=\"color: #008000; text-decoration-color: #008000\">08b8f2cb53906fff0002bc60315fc2a4</span> │ <span style=\"color: #008000; text-decoration-color: #008000\">hospital    </span> │ <span style=\"color: #008080; text-decoration-color: #008080; font-weight: bold\">-79.183823</span> │ <span style=\"color: #008080; text-decoration-color: #008080; font-weight: bold\">-0.279552</span> │ <span style=\"color: #008000; text-decoration-color: #008000\">hospital     </span> │ <span style=\"color: #008000; text-decoration-color: #008000\">Q      </span> │ <span style=\"color: #008000; text-decoration-color: #008000\">86        </span> │ <span style=\"color: #008000; text-decoration-color: #008000\">Human health activities                               </span> │ <span style=\"color: #008000; text-decoration-color: #008000\">services     </span> │    <span style=\"color: #008080; text-decoration-color: #008080; font-weight: bold\">0.422409</span> │ <span style=\"color: #008000; text-decoration-color: #008000\">8b8f2cb53906fff</span> │\n",
       "│ <span style=\"color: #008000; text-decoration-color: #008000\">08b8f2cb544a9fff0002ba029aa3e3f7</span> │ <span style=\"color: #008000; text-decoration-color: #008000\">construction</span> │ <span style=\"color: #008080; text-decoration-color: #008080; font-weight: bold\">-79.192764</span> │ <span style=\"color: #008080; text-decoration-color: #008080; font-weight: bold\">-0.246977</span> │ <span style=\"color: #008000; text-decoration-color: #008000\">construction </span> │ <span style=\"color: #008000; text-decoration-color: #008000\">F      </span> │ <span style=\"color: #008000; text-decoration-color: #008000\">41        </span> │ <span style=\"color: #008000; text-decoration-color: #008000\">Construction of buildings                             </span> │ <span style=\"color: #008000; text-decoration-color: #008000\">manufacturing</span> │    <span style=\"color: #008080; text-decoration-color: #008080; font-weight: bold\">0.713332</span> │ <span style=\"color: #008000; text-decoration-color: #008000\">8b8f2cb544a9fff</span> │\n",
       "│ <span style=\"color: #008000; text-decoration-color: #008000\">08b8f2cb55520fff0002ba12c2d8f45a</span> │ <span style=\"color: #008000; text-decoration-color: #008000\">hospital    </span> │ <span style=\"color: #008080; text-decoration-color: #008080; font-weight: bold\">-79.171303</span> │ <span style=\"color: #008080; text-decoration-color: #008080; font-weight: bold\">-0.254928</span> │ <span style=\"color: #008000; text-decoration-color: #008000\">hospital     </span> │ <span style=\"color: #008000; text-decoration-color: #008000\">Q      </span> │ <span style=\"color: #008000; text-decoration-color: #008000\">86        </span> │ <span style=\"color: #008000; text-decoration-color: #008000\">Human health activities                               </span> │ <span style=\"color: #008000; text-decoration-color: #008000\">services     </span> │    <span style=\"color: #008080; text-decoration-color: #008080; font-weight: bold\">0.422409</span> │ <span style=\"color: #008000; text-decoration-color: #008000\">8b8f2cb55520fff</span> │\n",
       "│ <span style=\"color: #008000; text-decoration-color: #008000\">08b8f2cb55cabfff0002b2bef7ab4325</span> │ <span style=\"color: #008000; text-decoration-color: #008000\">retail      </span> │ <span style=\"color: #008080; text-decoration-color: #008080; font-weight: bold\">-79.170494</span> │ <span style=\"color: #008080; text-decoration-color: #008080; font-weight: bold\">-0.253329</span> │ <span style=\"color: #008000; text-decoration-color: #008000\">retail       </span> │ <span style=\"color: #008000; text-decoration-color: #008000\">G      </span> │ <span style=\"color: #008000; text-decoration-color: #008000\">47        </span> │ <span style=\"color: #008000; text-decoration-color: #008000\">Retail trade, except of motor vehicles and motorcycles</span> │ <span style=\"color: #008000; text-decoration-color: #008000\">services     </span> │    <span style=\"color: #008080; text-decoration-color: #008080; font-weight: bold\">0.493995</span> │ <span style=\"color: #008000; text-decoration-color: #008000\">8b8f2cb55cabfff</span> │\n",
       "└──────────────────────────────────┴──────────────┴────────────┴───────────┴───────────────┴─────────┴────────────┴────────────────────────────────────────────────────────┴───────────────┴─────────────┴─────────────────┘\n",
       "</pre>\n"
      ],
      "text/plain": [
       "┏━━━━━━━━━━━━━━━━━━━━━━━━━━━━━━━━━━┳━━━━━━━━━━━━━━┳━━━━━━━━━━━━┳━━━━━━━━━━━┳━━━━━━━━━━━━━━━┳━━━━━━━━━┳━━━━━━━━━━━━┳━━━━━━━━━━━━━━━━━━━━━━━━━━━━━━━━━━━━━━━━━━━━━━━━━━━━━━━━┳━━━━━━━━━━━━━━━┳━━━━━━━━━━━━━┳━━━━━━━━━━━━━━━━━┓\n",
       "┃\u001b[1m \u001b[0m\u001b[1mid\u001b[0m\u001b[1m                              \u001b[0m\u001b[1m \u001b[0m┃\u001b[1m \u001b[0m\u001b[1msec_cat\u001b[0m\u001b[1m     \u001b[0m\u001b[1m \u001b[0m┃\u001b[1m \u001b[0m\u001b[1mx\u001b[0m\u001b[1m         \u001b[0m\u001b[1m \u001b[0m┃\u001b[1m \u001b[0m\u001b[1my\u001b[0m\u001b[1m        \u001b[0m\u001b[1m \u001b[0m┃\u001b[1m \u001b[0m\u001b[1msec_cat_right\u001b[0m\u001b[1m \u001b[0m┃\u001b[1m \u001b[0m\u001b[1msection\u001b[0m\u001b[1m \u001b[0m┃\u001b[1m \u001b[0m\u001b[1misic_embed\u001b[0m\u001b[1m \u001b[0m┃\u001b[1m \u001b[0m\u001b[1misic_descr\u001b[0m\u001b[1m                                            \u001b[0m\u001b[1m \u001b[0m┃\u001b[1m \u001b[0m\u001b[1mdose\u001b[0m\u001b[1m         \u001b[0m\u001b[1m \u001b[0m┃\u001b[1m \u001b[0m\u001b[1mmatch_score\u001b[0m\u001b[1m \u001b[0m┃\u001b[1m \u001b[0m\u001b[1mh3_id\u001b[0m\u001b[1m          \u001b[0m\u001b[1m \u001b[0m┃\n",
       "┡━━━━━━━━━━━━━━━━━━━━━━━━━━━━━━━━━━╇━━━━━━━━━━━━━━╇━━━━━━━━━━━━╇━━━━━━━━━━━╇━━━━━━━━━━━━━━━╇━━━━━━━━━╇━━━━━━━━━━━━╇━━━━━━━━━━━━━━━━━━━━━━━━━━━━━━━━━━━━━━━━━━━━━━━━━━━━━━━━╇━━━━━━━━━━━━━━━╇━━━━━━━━━━━━━╇━━━━━━━━━━━━━━━━━┩\n",
       "│ \u001b[2mstring\u001b[0m                           │ \u001b[2mstring\u001b[0m       │ \u001b[2mfloat32\u001b[0m    │ \u001b[2mfloat32\u001b[0m   │ \u001b[2mstring\u001b[0m        │ \u001b[2mstring\u001b[0m  │ \u001b[2mstring\u001b[0m     │ \u001b[2mstring\u001b[0m                                                 │ \u001b[2mstring\u001b[0m        │ \u001b[2mfloat64\u001b[0m     │ \u001b[2mstring\u001b[0m          │\n",
       "├──────────────────────────────────┼──────────────┼────────────┼───────────┼───────────────┼─────────┼────────────┼────────────────────────────────────────────────────────┼───────────────┼─────────────┼─────────────────┤\n",
       "│ \u001b[32m08b8f2cb5a88cfff0002b59c6f1f847f\u001b[0m │ \u001b[32mhospital    \u001b[0m │ \u001b[1;36m-79.169258\u001b[0m │ \u001b[1;36m-0.322253\u001b[0m │ \u001b[32mhospital     \u001b[0m │ \u001b[32mQ      \u001b[0m │ \u001b[32m86        \u001b[0m │ \u001b[32mHuman health activities                               \u001b[0m │ \u001b[32mservices     \u001b[0m │    \u001b[1;36m0.422409\u001b[0m │ \u001b[32m8b8f2cb5a88cfff\u001b[0m │\n",
       "│ \u001b[32m08b8f2cb53906fff0002bc60315fc2a4\u001b[0m │ \u001b[32mhospital    \u001b[0m │ \u001b[1;36m-79.183823\u001b[0m │ \u001b[1;36m-0.279552\u001b[0m │ \u001b[32mhospital     \u001b[0m │ \u001b[32mQ      \u001b[0m │ \u001b[32m86        \u001b[0m │ \u001b[32mHuman health activities                               \u001b[0m │ \u001b[32mservices     \u001b[0m │    \u001b[1;36m0.422409\u001b[0m │ \u001b[32m8b8f2cb53906fff\u001b[0m │\n",
       "│ \u001b[32m08b8f2cb544a9fff0002ba029aa3e3f7\u001b[0m │ \u001b[32mconstruction\u001b[0m │ \u001b[1;36m-79.192764\u001b[0m │ \u001b[1;36m-0.246977\u001b[0m │ \u001b[32mconstruction \u001b[0m │ \u001b[32mF      \u001b[0m │ \u001b[32m41        \u001b[0m │ \u001b[32mConstruction of buildings                             \u001b[0m │ \u001b[32mmanufacturing\u001b[0m │    \u001b[1;36m0.713332\u001b[0m │ \u001b[32m8b8f2cb544a9fff\u001b[0m │\n",
       "│ \u001b[32m08b8f2cb55520fff0002ba12c2d8f45a\u001b[0m │ \u001b[32mhospital    \u001b[0m │ \u001b[1;36m-79.171303\u001b[0m │ \u001b[1;36m-0.254928\u001b[0m │ \u001b[32mhospital     \u001b[0m │ \u001b[32mQ      \u001b[0m │ \u001b[32m86        \u001b[0m │ \u001b[32mHuman health activities                               \u001b[0m │ \u001b[32mservices     \u001b[0m │    \u001b[1;36m0.422409\u001b[0m │ \u001b[32m8b8f2cb55520fff\u001b[0m │\n",
       "│ \u001b[32m08b8f2cb55cabfff0002b2bef7ab4325\u001b[0m │ \u001b[32mretail      \u001b[0m │ \u001b[1;36m-79.170494\u001b[0m │ \u001b[1;36m-0.253329\u001b[0m │ \u001b[32mretail       \u001b[0m │ \u001b[32mG      \u001b[0m │ \u001b[32m47        \u001b[0m │ \u001b[32mRetail trade, except of motor vehicles and motorcycles\u001b[0m │ \u001b[32mservices     \u001b[0m │    \u001b[1;36m0.493995\u001b[0m │ \u001b[32m8b8f2cb55cabfff\u001b[0m │\n",
       "└──────────────────────────────────┴──────────────┴────────────┴───────────┴───────────────┴─────────┴────────────┴────────────────────────────────────────────────────────┴───────────────┴─────────────┴─────────────────┘"
      ]
     },
     "execution_count": 31,
     "metadata": {},
     "output_type": "execute_result"
    }
   ],
   "source": [
    "overture_data.head()"
   ]
  },
  {
   "cell_type": "code",
   "execution_count": 41,
   "metadata": {},
   "outputs": [
    {
     "name": "stdout",
     "output_type": "stream",
     "text": [
      "Existing h3_id column will be overwritten\n",
      "Assuming coordinates columns ('x','y')\n"
     ]
    }
   ],
   "source": [
    "overture_data = snoo.sn_project(overture_data,res=3)"
   ]
  },
  {
   "cell_type": "code",
   "execution_count": 42,
   "metadata": {},
   "outputs": [
    {
     "data": {
      "text/html": [
       "<pre style=\"white-space:pre;overflow-x:auto;line-height:normal;font-family:Menlo,'DejaVu Sans Mono',consolas,'Courier New',monospace\"></pre>\n"
      ],
      "text/plain": []
     },
     "metadata": {},
     "output_type": "display_data"
    },
    {
     "data": {
      "text/plain": [
       "┌───────┐\n",
       "│ \u001b[1;36m21087\u001b[0m │\n",
       "└───────┘"
      ]
     },
     "execution_count": 42,
     "metadata": {},
     "output_type": "execute_result"
    }
   ],
   "source": [
    "overture_data.h3_id.nunique()"
   ]
  },
  {
   "cell_type": "code",
   "execution_count": 43,
   "metadata": {},
   "outputs": [
    {
     "data": {
      "text/html": [
       "<pre style=\"white-space:pre;overflow-x:auto;line-height:normal;font-family:Menlo,'DejaVu Sans Mono',consolas,'Courier New',monospace\"></pre>\n"
      ],
      "text/plain": []
     },
     "metadata": {},
     "output_type": "display_data"
    },
    {
     "data": {
      "text/plain": [
       "┌──────────┐\n",
       "│ \u001b[1;36m42580904\u001b[0m │\n",
       "└──────────┘"
      ]
     },
     "execution_count": 43,
     "metadata": {},
     "output_type": "execute_result"
    }
   ],
   "source": [
    "overture_data.count()"
   ]
  },
  {
   "cell_type": "markdown",
   "metadata": {},
   "source": [
    "## Transorming the data"
   ]
  },
  {
   "cell_type": "code",
   "execution_count": 44,
   "metadata": {},
   "outputs": [],
   "source": [
    "overture_h3_dens = (\n",
    "    overture_data\n",
    "    .select(\"id\",\"h3_id\",\"dose\")\n",
    "    .pivot_wider(\n",
    "        id_cols=\"h3_id\",\n",
    "        names_from=\"dose\",\n",
    "        values_from=\"id\",\n",
    "        values_agg=\"count\",\n",
    "        values_fill=0,\n",
    "    )\n",
    ")"
   ]
  },
  {
   "cell_type": "code",
   "execution_count": 47,
   "metadata": {},
   "outputs": [
    {
     "data": {
      "text/html": [
       "<pre style=\"white-space:pre;overflow-x:auto;line-height:normal;font-family:Menlo,'DejaVu Sans Mono',consolas,'Courier New',monospace\"></pre>\n"
      ],
      "text/plain": []
     },
     "metadata": {},
     "output_type": "display_data"
    },
    {
     "data": {
      "text/plain": [
       "┌───────┐\n",
       "│ \u001b[1;36m21087\u001b[0m │\n",
       "└───────┘"
      ]
     },
     "execution_count": 47,
     "metadata": {},
     "output_type": "execute_result"
    }
   ],
   "source": [
    "overture_h3_dens.h3_id.nunique()"
   ]
  },
  {
   "cell_type": "code",
   "execution_count": 53,
   "metadata": {},
   "outputs": [
    {
     "data": {
      "text/html": [
       "<pre style=\"white-space:pre;overflow-x:auto;line-height:normal;font-family:Menlo,'DejaVu Sans Mono',consolas,'Courier New',monospace\"></pre>\n"
      ],
      "text/plain": []
     },
     "metadata": {},
     "output_type": "display_data"
    },
    {
     "data": {
      "text/plain": [
       "┌───────┐\n",
       "│ \u001b[1;36m21087\u001b[0m │\n",
       "└───────┘"
      ]
     },
     "execution_count": 53,
     "metadata": {},
     "output_type": "execute_result"
    }
   ],
   "source": [
    "overture_h3_dens.count()"
   ]
  },
  {
   "cell_type": "code",
   "execution_count": null,
   "metadata": {},
   "outputs": [
    {
     "data": {
      "text/plain": [
       "['agriculture', 'manufacturing', 'services']"
      ]
     },
     "execution_count": 71,
     "metadata": {},
     "output_type": "execute_result"
    }
   ],
   "source": [
    "cols = overture_h3_dens.select(s.of_type(int)).columns"
   ]
  },
  {
   "cell_type": "code",
   "execution_count": 72,
   "metadata": {},
   "outputs": [
    {
     "data": {
      "application/vnd.jupyter.widget-view+json": {
       "model_id": "8ac09a667ac0422592ad378dfb5a5028",
       "version_major": 2,
       "version_minor": 0
      },
      "text/plain": [
       "FloatProgress(value=0.0, layout=Layout(width='auto'), style=ProgressStyle(bar_color='black'))"
      ]
     },
     "metadata": {},
     "output_type": "display_data"
    },
    {
     "data": {
      "text/html": [
       "<pre style=\"white-space:pre;overflow-x:auto;line-height:normal;font-family:Menlo,'DejaVu Sans Mono',consolas,'Courier New',monospace\">┏━━━━━━━━━━━━━━━━━┳━━━━━━━━━━━━━━━━━┳━━━━━━━━━━━━━━━━━━━┳━━━━━━━━━━━━━━┳━━━━━━━━━━━━━━━━━━━━━━━━━━┓\n",
       "┃<span style=\"font-weight: bold\"> h3_id           </span>┃<span style=\"font-weight: bold\"> agriculture_var </span>┃<span style=\"font-weight: bold\"> manufacturing_var </span>┃<span style=\"font-weight: bold\"> services_var </span>┃<span style=\"font-weight: bold\"> geom                     </span>┃\n",
       "┡━━━━━━━━━━━━━━━━━╇━━━━━━━━━━━━━━━━━╇━━━━━━━━━━━━━━━━━━━╇━━━━━━━━━━━━━━╇━━━━━━━━━━━━━━━━━━━━━━━━━━┩\n",
       "│ <span style=\"color: #7f7f7f; text-decoration-color: #7f7f7f\">string</span>          │ <span style=\"color: #7f7f7f; text-decoration-color: #7f7f7f\">int64</span>           │ <span style=\"color: #7f7f7f; text-decoration-color: #7f7f7f\">int64</span>             │ <span style=\"color: #7f7f7f; text-decoration-color: #7f7f7f\">int64</span>        │ <span style=\"color: #7f7f7f; text-decoration-color: #7f7f7f\">geospatial:geometry</span>      │\n",
       "├─────────────────┼─────────────────┼───────────────────┼──────────────┼──────────────────────────┤\n",
       "│ <span style=\"color: #008000; text-decoration-color: #008000\">83195dfffffffff</span> │           <span style=\"color: #008080; text-decoration-color: #008080; font-weight: bold\">22848</span> │             <span style=\"color: #008080; text-decoration-color: #008080; font-weight: bold\">30198</span> │       <span style=\"color: #008080; text-decoration-color: #008080; font-weight: bold\">155877</span> │ <span style=\"font-weight: bold\">&lt;</span><span style=\"color: #ff00ff; text-decoration-color: #ff00ff; font-weight: bold\">POINT</span><span style=\"color: #000000; text-decoration-color: #000000\"> </span><span style=\"color: #000000; text-decoration-color: #000000; font-weight: bold\">(</span><span style=\"color: #008080; text-decoration-color: #008080; font-weight: bold\">-0.943</span><span style=\"color: #000000; text-decoration-color: #000000\"> </span><span style=\"color: #008080; text-decoration-color: #008080; font-weight: bold\">51.805</span><span style=\"color: #000000; text-decoration-color: #000000; font-weight: bold\">)</span><span style=\"font-weight: bold\">&gt;</span>  │\n",
       "│ <span style=\"color: #008000; text-decoration-color: #008000\">836948fffffffff</span> │             <span style=\"color: #008080; text-decoration-color: #008080; font-weight: bold\">537</span> │                <span style=\"color: #008080; text-decoration-color: #008080; font-weight: bold\">10</span> │          <span style=\"color: #008080; text-decoration-color: #008080; font-weight: bold\">254</span> │ <span style=\"font-weight: bold\">&lt;</span><span style=\"color: #ff00ff; text-decoration-color: #ff00ff; font-weight: bold\">POINT</span><span style=\"color: #000000; text-decoration-color: #000000\"> </span><span style=\"color: #000000; text-decoration-color: #000000; font-weight: bold\">(</span><span style=\"color: #008080; text-decoration-color: #008080; font-weight: bold\">122.512</span><span style=\"color: #000000; text-decoration-color: #000000\"> </span><span style=\"color: #008080; text-decoration-color: #008080; font-weight: bold\">14.799</span><span style=\"color: #000000; text-decoration-color: #000000; font-weight: bold\">)</span><span style=\"font-weight: bold\">&gt;</span> │\n",
       "│ <span style=\"color: #008000; text-decoration-color: #008000\">834103fffffffff</span> │              <span style=\"color: #008080; text-decoration-color: #008080; font-weight: bold\">50</span> │               <span style=\"color: #008080; text-decoration-color: #008080; font-weight: bold\">635</span> │         <span style=\"color: #008080; text-decoration-color: #008080; font-weight: bold\">4319</span> │ <span style=\"font-weight: bold\">&lt;</span><span style=\"color: #ff00ff; text-decoration-color: #ff00ff; font-weight: bold\">POINT</span><span style=\"color: #000000; text-decoration-color: #000000\"> </span><span style=\"color: #000000; text-decoration-color: #000000; font-weight: bold\">(</span><span style=\"color: #008080; text-decoration-color: #008080; font-weight: bold\">113.879</span><span style=\"color: #000000; text-decoration-color: #000000\"> </span><span style=\"color: #008080; text-decoration-color: #008080; font-weight: bold\">21.754</span><span style=\"color: #000000; text-decoration-color: #000000; font-weight: bold\">)</span><span style=\"font-weight: bold\">&gt;</span> │\n",
       "│ <span style=\"color: #008000; text-decoration-color: #008000\">83316cfffffffff</span> │              <span style=\"color: #008080; text-decoration-color: #008080; font-weight: bold\">56</span> │               <span style=\"color: #008080; text-decoration-color: #008080; font-weight: bold\">638</span> │         <span style=\"color: #008080; text-decoration-color: #008080; font-weight: bold\">1988</span> │ <span style=\"font-weight: bold\">&lt;</span><span style=\"color: #ff00ff; text-decoration-color: #ff00ff; font-weight: bold\">POINT</span><span style=\"color: #000000; text-decoration-color: #000000\"> </span><span style=\"color: #000000; text-decoration-color: #000000; font-weight: bold\">(</span><span style=\"color: #008080; text-decoration-color: #008080; font-weight: bold\">132.122</span><span style=\"color: #000000; text-decoration-color: #000000\"> </span><span style=\"color: #008080; text-decoration-color: #008080; font-weight: bold\">43.155</span><span style=\"color: #000000; text-decoration-color: #000000; font-weight: bold\">)</span><span style=\"font-weight: bold\">&gt;</span> │\n",
       "│ <span style=\"color: #008000; text-decoration-color: #008000\">832ecdfffffffff</span> │              <span style=\"color: #008080; text-decoration-color: #008080; font-weight: bold\">24</span> │                <span style=\"color: #008080; text-decoration-color: #008080; font-weight: bold\">13</span> │           <span style=\"color: #008080; text-decoration-color: #008080; font-weight: bold\">13</span> │ <span style=\"font-weight: bold\">&lt;</span><span style=\"color: #ff00ff; text-decoration-color: #ff00ff; font-weight: bold\">POINT</span><span style=\"color: #000000; text-decoration-color: #000000\"> </span><span style=\"color: #000000; text-decoration-color: #000000; font-weight: bold\">(</span><span style=\"color: #008080; text-decoration-color: #008080; font-weight: bold\">133.274</span><span style=\"color: #000000; text-decoration-color: #000000\"> </span><span style=\"color: #008080; text-decoration-color: #008080; font-weight: bold\">43.546</span><span style=\"color: #000000; text-decoration-color: #000000; font-weight: bold\">)</span><span style=\"font-weight: bold\">&gt;</span> │\n",
       "└─────────────────┴─────────────────┴───────────────────┴──────────────┴──────────────────────────┘\n",
       "</pre>\n"
      ],
      "text/plain": [
       "┏━━━━━━━━━━━━━━━━━┳━━━━━━━━━━━━━━━━━┳━━━━━━━━━━━━━━━━━━━┳━━━━━━━━━━━━━━┳━━━━━━━━━━━━━━━━━━━━━━━━━━┓\n",
       "┃\u001b[1m \u001b[0m\u001b[1mh3_id\u001b[0m\u001b[1m          \u001b[0m\u001b[1m \u001b[0m┃\u001b[1m \u001b[0m\u001b[1magriculture_var\u001b[0m\u001b[1m \u001b[0m┃\u001b[1m \u001b[0m\u001b[1mmanufacturing_var\u001b[0m\u001b[1m \u001b[0m┃\u001b[1m \u001b[0m\u001b[1mservices_var\u001b[0m\u001b[1m \u001b[0m┃\u001b[1m \u001b[0m\u001b[1mgeom\u001b[0m\u001b[1m                    \u001b[0m\u001b[1m \u001b[0m┃\n",
       "┡━━━━━━━━━━━━━━━━━╇━━━━━━━━━━━━━━━━━╇━━━━━━━━━━━━━━━━━━━╇━━━━━━━━━━━━━━╇━━━━━━━━━━━━━━━━━━━━━━━━━━┩\n",
       "│ \u001b[2mstring\u001b[0m          │ \u001b[2mint64\u001b[0m           │ \u001b[2mint64\u001b[0m             │ \u001b[2mint64\u001b[0m        │ \u001b[2mgeospatial:geometry\u001b[0m      │\n",
       "├─────────────────┼─────────────────┼───────────────────┼──────────────┼──────────────────────────┤\n",
       "│ \u001b[32m83195dfffffffff\u001b[0m │           \u001b[1;36m22848\u001b[0m │             \u001b[1;36m30198\u001b[0m │       \u001b[1;36m155877\u001b[0m │ \u001b[1m<\u001b[0m\u001b[1;95mPOINT\u001b[0m\u001b[39m \u001b[0m\u001b[1;39m(\u001b[0m\u001b[1;36m-0.943\u001b[0m\u001b[39m \u001b[0m\u001b[1;36m51.805\u001b[0m\u001b[1;39m)\u001b[0m\u001b[1m>\u001b[0m  │\n",
       "│ \u001b[32m836948fffffffff\u001b[0m │             \u001b[1;36m537\u001b[0m │                \u001b[1;36m10\u001b[0m │          \u001b[1;36m254\u001b[0m │ \u001b[1m<\u001b[0m\u001b[1;95mPOINT\u001b[0m\u001b[39m \u001b[0m\u001b[1;39m(\u001b[0m\u001b[1;36m122.512\u001b[0m\u001b[39m \u001b[0m\u001b[1;36m14.799\u001b[0m\u001b[1;39m)\u001b[0m\u001b[1m>\u001b[0m │\n",
       "│ \u001b[32m834103fffffffff\u001b[0m │              \u001b[1;36m50\u001b[0m │               \u001b[1;36m635\u001b[0m │         \u001b[1;36m4319\u001b[0m │ \u001b[1m<\u001b[0m\u001b[1;95mPOINT\u001b[0m\u001b[39m \u001b[0m\u001b[1;39m(\u001b[0m\u001b[1;36m113.879\u001b[0m\u001b[39m \u001b[0m\u001b[1;36m21.754\u001b[0m\u001b[1;39m)\u001b[0m\u001b[1m>\u001b[0m │\n",
       "│ \u001b[32m83316cfffffffff\u001b[0m │              \u001b[1;36m56\u001b[0m │               \u001b[1;36m638\u001b[0m │         \u001b[1;36m1988\u001b[0m │ \u001b[1m<\u001b[0m\u001b[1;95mPOINT\u001b[0m\u001b[39m \u001b[0m\u001b[1;39m(\u001b[0m\u001b[1;36m132.122\u001b[0m\u001b[39m \u001b[0m\u001b[1;36m43.155\u001b[0m\u001b[1;39m)\u001b[0m\u001b[1m>\u001b[0m │\n",
       "│ \u001b[32m832ecdfffffffff\u001b[0m │              \u001b[1;36m24\u001b[0m │                \u001b[1;36m13\u001b[0m │           \u001b[1;36m13\u001b[0m │ \u001b[1m<\u001b[0m\u001b[1;95mPOINT\u001b[0m\u001b[39m \u001b[0m\u001b[1;39m(\u001b[0m\u001b[1;36m133.274\u001b[0m\u001b[39m \u001b[0m\u001b[1;36m43.546\u001b[0m\u001b[1;39m)\u001b[0m\u001b[1m>\u001b[0m │\n",
       "└─────────────────┴─────────────────┴───────────────────┴──────────────┴──────────────────────────┘"
      ]
     },
     "execution_count": 72,
     "metadata": {},
     "output_type": "execute_result"
    }
   ],
   "source": [
    "overture_h3_geom = (\n",
    "    snoo.sn_add_centr(overture_h3_dens)\n",
    "    .rename({x + \"_var\" : x for x in cols})\n",
    "    )\n",
    "overture_h3_geom.head()"
   ]
  },
  {
   "cell_type": "code",
   "execution_count": null,
   "metadata": {},
   "outputs": [],
   "source": [
    "overture_h3_geom = conn.create_table(obj=overture_h3_geom,name=\"overture_h3_geom\",overwrite=True)"
   ]
  },
  {
   "cell_type": "code",
   "execution_count": 76,
   "metadata": {},
   "outputs": [
    {
     "data": {
      "text/plain": [
       "['boundaries',\n",
       " 'dose_wdi',\n",
       " 'ibis_cache_sotfmq7s5fh67mwnjwguqmxkhe',\n",
       " 'overture_h3_geom',\n",
       " 'overture_landuse',\n",
       " 'overture_pois',\n",
       " 'places',\n",
       " 'places_types']"
      ]
     },
     "execution_count": 76,
     "metadata": {},
     "output_type": "execute_result"
    }
   ],
   "source": [
    "conn.list_tables()"
   ]
  },
  {
   "cell_type": "code",
   "execution_count": 77,
   "metadata": {},
   "outputs": [
    {
     "data": {
      "text/html": [
       "<pre style=\"white-space:pre;overflow-x:auto;line-height:normal;font-family:Menlo,'DejaVu Sans Mono',consolas,'Courier New',monospace\">┏━━━━━━━━┳━━━━━━━━━┳━━━━━━━━━┳━━━━━━━━━━━━━━┳━━━━━━━━━━━━━━━━━━━┳━━━━━━━━━━━━━━━━━━━━━━━━┳━━━━━━━━━━━━━━━━━━━━━━┳━━━━━━━━━━━━━━━━━━━━━━━━━━━━━━━━━━━━━━━━━━━━━━━━━━━━━━━━━━━━━━━━━━━━━━━━━━━━━━━━━━┳━━━━━━━━━━━┳━━━━━━━━━━━┓\n",
       "┃<span style=\"font-weight: bold\"> gid_0  </span>┃<span style=\"font-weight: bold\"> country </span>┃<span style=\"font-weight: bold\"> gid_1   </span>┃<span style=\"font-weight: bold\"> grp_usd_2015 </span>┃<span style=\"font-weight: bold\"> services_usd_2015 </span>┃<span style=\"font-weight: bold\"> manufacturing_usd_2015 </span>┃<span style=\"font-weight: bold\"> agriculture_usd_2015 </span>┃<span style=\"font-weight: bold\"> geometry                                                                         </span>┃<span style=\"font-weight: bold\"> x         </span>┃<span style=\"font-weight: bold\"> y         </span>┃\n",
       "┡━━━━━━━━╇━━━━━━━━━╇━━━━━━━━━╇━━━━━━━━━━━━━━╇━━━━━━━━━━━━━━━━━━━╇━━━━━━━━━━━━━━━━━━━━━━━━╇━━━━━━━━━━━━━━━━━━━━━━╇━━━━━━━━━━━━━━━━━━━━━━━━━━━━━━━━━━━━━━━━━━━━━━━━━━━━━━━━━━━━━━━━━━━━━━━━━━━━━━━━━━╇━━━━━━━━━━━╇━━━━━━━━━━━┩\n",
       "│ <span style=\"color: #7f7f7f; text-decoration-color: #7f7f7f\">string</span> │ <span style=\"color: #7f7f7f; text-decoration-color: #7f7f7f\">string</span>  │ <span style=\"color: #7f7f7f; text-decoration-color: #7f7f7f\">string</span>  │ <span style=\"color: #7f7f7f; text-decoration-color: #7f7f7f\">float64</span>      │ <span style=\"color: #7f7f7f; text-decoration-color: #7f7f7f\">float64</span>           │ <span style=\"color: #7f7f7f; text-decoration-color: #7f7f7f\">float64</span>                │ <span style=\"color: #7f7f7f; text-decoration-color: #7f7f7f\">float64</span>              │ <span style=\"color: #7f7f7f; text-decoration-color: #7f7f7f\">geospatial:geometry</span>                                                              │ <span style=\"color: #7f7f7f; text-decoration-color: #7f7f7f\">float64</span>   │ <span style=\"color: #7f7f7f; text-decoration-color: #7f7f7f\">float64</span>   │\n",
       "├────────┼─────────┼─────────┼──────────────┼───────────────────┼────────────────────────┼──────────────────────┼──────────────────────────────────────────────────────────────────────────────────┼───────────┼───────────┤\n",
       "│ <span style=\"color: #008000; text-decoration-color: #008000\">ALB   </span> │ <span style=\"color: #008000; text-decoration-color: #008000\">Albania</span> │ <span style=\"color: #008000; text-decoration-color: #008000\">ALB.1_1</span> │ <span style=\"color: #008080; text-decoration-color: #008080; font-weight: bold\">4.341915e+08</span> │      <span style=\"color: #008080; text-decoration-color: #008080; font-weight: bold\">2.009631e+08</span> │           <span style=\"color: #008080; text-decoration-color: #008080; font-weight: bold\">9.449606e+07</span> │         <span style=\"color: #008080; text-decoration-color: #008080; font-weight: bold\">8.588401e+07</span> │ <span style=\"font-weight: bold\">&lt;</span><span style=\"color: #ff00ff; text-decoration-color: #ff00ff; font-weight: bold\">POLYGON</span><span style=\"color: #000000; text-decoration-color: #000000\"> </span><span style=\"color: #000000; text-decoration-color: #000000; font-weight: bold\">((</span><span style=\"color: #008080; text-decoration-color: #008080; font-weight: bold\">20.379</span><span style=\"color: #000000; text-decoration-color: #000000\"> </span><span style=\"color: #008080; text-decoration-color: #008080; font-weight: bold\">40.435</span><span style=\"color: #000000; text-decoration-color: #000000\">, </span><span style=\"color: #008080; text-decoration-color: #008080; font-weight: bold\">20.377</span><span style=\"color: #000000; text-decoration-color: #000000\"> </span><span style=\"color: #008080; text-decoration-color: #008080; font-weight: bold\">40.436</span><span style=\"color: #000000; text-decoration-color: #000000\">, </span><span style=\"color: #008080; text-decoration-color: #008080; font-weight: bold\">20.373</span><span style=\"color: #000000; text-decoration-color: #000000\"> </span><span style=\"color: #008080; text-decoration-color: #008080; font-weight: bold\">40.437</span><span style=\"color: #000000; text-decoration-color: #000000\">, </span><span style=\"color: #008080; text-decoration-color: #008080; font-weight: bold\">20.369</span><span style=\"color: #000000; text-decoration-color: #000000\"> </span><span style=\"color: #008080; text-decoration-color: #008080; font-weight: bold\">40.438</span><span style=\"color: #000000; text-decoration-color: #000000\">, </span><span style=\"color: #008080; text-decoration-color: #008080; font-weight: bold\">20.36</span><span style=\"color: #808000; text-decoration-color: #808000\">...</span><span style=\"font-weight: bold\">&gt;</span> │ <span style=\"color: #008080; text-decoration-color: #008080; font-weight: bold\">20.090775</span> │ <span style=\"color: #008080; text-decoration-color: #008080; font-weight: bold\">40.628500</span> │\n",
       "│ <span style=\"color: #008000; text-decoration-color: #008000\">ALB   </span> │ <span style=\"color: #008000; text-decoration-color: #008000\">Albania</span> │ <span style=\"color: #008000; text-decoration-color: #008000\">ALB.2_1</span> │ <span style=\"color: #008080; text-decoration-color: #008080; font-weight: bold\">3.719427e+08</span> │      <span style=\"color: #008080; text-decoration-color: #008080; font-weight: bold\">1.721516e+08</span> │           <span style=\"color: #008080; text-decoration-color: #008080; font-weight: bold\">8.094841e+07</span> │         <span style=\"color: #008080; text-decoration-color: #008080; font-weight: bold\">7.357106e+07</span> │ <span style=\"font-weight: bold\">&lt;</span><span style=\"color: #ff00ff; text-decoration-color: #ff00ff; font-weight: bold\">POLYGON</span><span style=\"color: #000000; text-decoration-color: #000000\"> </span><span style=\"color: #000000; text-decoration-color: #000000; font-weight: bold\">((</span><span style=\"color: #008080; text-decoration-color: #008080; font-weight: bold\">20.422</span><span style=\"color: #000000; text-decoration-color: #000000\"> </span><span style=\"color: #008080; text-decoration-color: #008080; font-weight: bold\">41.282</span><span style=\"color: #000000; text-decoration-color: #000000\">, </span><span style=\"color: #008080; text-decoration-color: #008080; font-weight: bold\">20.423</span><span style=\"color: #000000; text-decoration-color: #000000\"> </span><span style=\"color: #008080; text-decoration-color: #008080; font-weight: bold\">41.282</span><span style=\"color: #000000; text-decoration-color: #000000\">, </span><span style=\"color: #008080; text-decoration-color: #008080; font-weight: bold\">20.422</span><span style=\"color: #000000; text-decoration-color: #000000\"> </span><span style=\"color: #008080; text-decoration-color: #008080; font-weight: bold\">41.283</span><span style=\"color: #000000; text-decoration-color: #000000\">, </span><span style=\"color: #008080; text-decoration-color: #008080; font-weight: bold\">20.421</span><span style=\"color: #000000; text-decoration-color: #000000\"> </span><span style=\"color: #008080; text-decoration-color: #008080; font-weight: bold\">41.284</span><span style=\"color: #000000; text-decoration-color: #000000\">, </span><span style=\"color: #008080; text-decoration-color: #008080; font-weight: bold\">20.42</span><span style=\"color: #808000; text-decoration-color: #808000\">...</span><span style=\"font-weight: bold\">&gt;</span> │ <span style=\"color: #008080; text-decoration-color: #008080; font-weight: bold\">20.249534</span> │ <span style=\"color: #008080; text-decoration-color: #008080; font-weight: bold\">41.589105</span> │\n",
       "│ <span style=\"color: #008000; text-decoration-color: #008000\">ALB   </span> │ <span style=\"color: #008000; text-decoration-color: #008000\">Albania</span> │ <span style=\"color: #008000; text-decoration-color: #008000\">ALB.3_1</span> │ <span style=\"color: #008080; text-decoration-color: #008080; font-weight: bold\">1.113524e+09</span> │      <span style=\"color: #008080; text-decoration-color: #008080; font-weight: bold\">5.153885e+08</span> │           <span style=\"color: #008080; text-decoration-color: #008080; font-weight: bold\">2.423439e+08</span> │         <span style=\"color: #008080; text-decoration-color: #008080; font-weight: bold\">2.202575e+08</span> │ <span style=\"font-weight: bold\">&lt;</span><span style=\"color: #ff00ff; text-decoration-color: #ff00ff; font-weight: bold\">POLYGON</span><span style=\"color: #000000; text-decoration-color: #000000\"> </span><span style=\"color: #000000; text-decoration-color: #000000; font-weight: bold\">((</span><span style=\"color: #008080; text-decoration-color: #008080; font-weight: bold\">19.638</span><span style=\"color: #000000; text-decoration-color: #000000\"> </span><span style=\"color: #008080; text-decoration-color: #008080; font-weight: bold\">41.341</span><span style=\"color: #000000; text-decoration-color: #000000\">, </span><span style=\"color: #008080; text-decoration-color: #008080; font-weight: bold\">19.636</span><span style=\"color: #000000; text-decoration-color: #000000\"> </span><span style=\"color: #008080; text-decoration-color: #008080; font-weight: bold\">41.337</span><span style=\"color: #000000; text-decoration-color: #000000\">, </span><span style=\"color: #008080; text-decoration-color: #008080; font-weight: bold\">19.637</span><span style=\"color: #000000; text-decoration-color: #000000\"> </span><span style=\"color: #008080; text-decoration-color: #008080; font-weight: bold\">41.335</span><span style=\"color: #000000; text-decoration-color: #000000\">, </span><span style=\"color: #008080; text-decoration-color: #008080; font-weight: bold\">19.64</span><span style=\"color: #000000; text-decoration-color: #000000\"> </span><span style=\"color: #008080; text-decoration-color: #008080; font-weight: bold\">41.33</span><span style=\"color: #000000; text-decoration-color: #000000\">, </span><span style=\"color: #008080; text-decoration-color: #008080; font-weight: bold\">19.642</span><span style=\"color: #000000; text-decoration-color: #000000\"> </span><span style=\"color: #808000; text-decoration-color: #808000\">...</span><span style=\"font-weight: bold\">&gt;</span> │ <span style=\"color: #008080; text-decoration-color: #008080; font-weight: bold\">19.630373</span> │ <span style=\"color: #008080; text-decoration-color: #008080; font-weight: bold\">41.447333</span> │\n",
       "│ <span style=\"color: #008000; text-decoration-color: #008000\">ALB   </span> │ <span style=\"color: #008000; text-decoration-color: #008000\">Albania</span> │ <span style=\"color: #008000; text-decoration-color: #008000\">ALB.4_1</span> │ <span style=\"color: #008080; text-decoration-color: #008080; font-weight: bold\">7.954835e+08</span> │      <span style=\"color: #008080; text-decoration-color: #008080; font-weight: bold\">3.681851e+08</span> │           <span style=\"color: #008080; text-decoration-color: #008080; font-weight: bold\">1.731265e+08</span> │         <span style=\"color: #008080; text-decoration-color: #008080; font-weight: bold\">1.573483e+08</span> │ <span style=\"font-weight: bold\">&lt;</span><span style=\"color: #ff00ff; text-decoration-color: #ff00ff; font-weight: bold\">POLYGON</span><span style=\"color: #000000; text-decoration-color: #000000\"> </span><span style=\"color: #000000; text-decoration-color: #000000; font-weight: bold\">((</span><span style=\"color: #008080; text-decoration-color: #008080; font-weight: bold\">20.437</span><span style=\"color: #000000; text-decoration-color: #000000\"> </span><span style=\"color: #008080; text-decoration-color: #008080; font-weight: bold\">40.849</span><span style=\"color: #000000; text-decoration-color: #000000\">, </span><span style=\"color: #008080; text-decoration-color: #008080; font-weight: bold\">20.437</span><span style=\"color: #000000; text-decoration-color: #000000\"> </span><span style=\"color: #008080; text-decoration-color: #008080; font-weight: bold\">40.848</span><span style=\"color: #000000; text-decoration-color: #000000\">, </span><span style=\"color: #008080; text-decoration-color: #008080; font-weight: bold\">20.44</span><span style=\"color: #000000; text-decoration-color: #000000\"> </span><span style=\"color: #008080; text-decoration-color: #008080; font-weight: bold\">40.847</span><span style=\"color: #000000; text-decoration-color: #000000\">, </span><span style=\"color: #008080; text-decoration-color: #008080; font-weight: bold\">20.441</span><span style=\"color: #000000; text-decoration-color: #000000\"> </span><span style=\"color: #008080; text-decoration-color: #008080; font-weight: bold\">40.841</span><span style=\"color: #000000; text-decoration-color: #000000\">, </span><span style=\"color: #008080; text-decoration-color: #008080; font-weight: bold\">20.446</span><span style=\"color: #808000; text-decoration-color: #808000\">...</span><span style=\"font-weight: bold\">&gt;</span> │ <span style=\"color: #008080; text-decoration-color: #008080; font-weight: bold\">20.186454</span> │ <span style=\"color: #008080; text-decoration-color: #008080; font-weight: bold\">41.040028</span> │\n",
       "│ <span style=\"color: #008000; text-decoration-color: #008000\">ALB   </span> │ <span style=\"color: #008000; text-decoration-color: #008000\">Albania</span> │ <span style=\"color: #008000; text-decoration-color: #008000\">ALB.5_1</span> │ <span style=\"color: #008080; text-decoration-color: #008080; font-weight: bold\">1.345159e+09</span> │      <span style=\"color: #008080; text-decoration-color: #008080; font-weight: bold\">6.225993e+08</span> │           <span style=\"color: #008080; text-decoration-color: #008080; font-weight: bold\">2.927561e+08</span> │         <span style=\"color: #008080; text-decoration-color: #008080; font-weight: bold\">2.660753e+08</span> │ <span style=\"font-weight: bold\">&lt;</span><span style=\"color: #ff00ff; text-decoration-color: #ff00ff; font-weight: bold\">POLYGON</span><span style=\"color: #000000; text-decoration-color: #000000\"> </span><span style=\"color: #000000; text-decoration-color: #000000; font-weight: bold\">((</span><span style=\"color: #008080; text-decoration-color: #008080; font-weight: bold\">19.744</span><span style=\"color: #000000; text-decoration-color: #000000\"> </span><span style=\"color: #008080; text-decoration-color: #008080; font-weight: bold\">40.452</span><span style=\"color: #000000; text-decoration-color: #000000\">, </span><span style=\"color: #008080; text-decoration-color: #008080; font-weight: bold\">19.745</span><span style=\"color: #000000; text-decoration-color: #000000\"> </span><span style=\"color: #008080; text-decoration-color: #008080; font-weight: bold\">40.457</span><span style=\"color: #000000; text-decoration-color: #000000\">, </span><span style=\"color: #008080; text-decoration-color: #008080; font-weight: bold\">19.743</span><span style=\"color: #000000; text-decoration-color: #000000\"> </span><span style=\"color: #008080; text-decoration-color: #008080; font-weight: bold\">40.459</span><span style=\"color: #000000; text-decoration-color: #000000\">, </span><span style=\"color: #008080; text-decoration-color: #008080; font-weight: bold\">19.741</span><span style=\"color: #000000; text-decoration-color: #000000\"> </span><span style=\"color: #008080; text-decoration-color: #008080; font-weight: bold\">40.462</span><span style=\"color: #000000; text-decoration-color: #000000\">, </span><span style=\"color: #008080; text-decoration-color: #008080; font-weight: bold\">19.73</span><span style=\"color: #808000; text-decoration-color: #808000\">...</span><span style=\"font-weight: bold\">&gt;</span> │ <span style=\"color: #008080; text-decoration-color: #008080; font-weight: bold\">19.620528</span> │ <span style=\"color: #008080; text-decoration-color: #008080; font-weight: bold\">40.774633</span> │\n",
       "└────────┴─────────┴─────────┴──────────────┴───────────────────┴────────────────────────┴──────────────────────┴──────────────────────────────────────────────────────────────────────────────────┴───────────┴───────────┘\n",
       "</pre>\n"
      ],
      "text/plain": [
       "┏━━━━━━━━┳━━━━━━━━━┳━━━━━━━━━┳━━━━━━━━━━━━━━┳━━━━━━━━━━━━━━━━━━━┳━━━━━━━━━━━━━━━━━━━━━━━━┳━━━━━━━━━━━━━━━━━━━━━━┳━━━━━━━━━━━━━━━━━━━━━━━━━━━━━━━━━━━━━━━━━━━━━━━━━━━━━━━━━━━━━━━━━━━━━━━━━━━━━━━━━━┳━━━━━━━━━━━┳━━━━━━━━━━━┓\n",
       "┃\u001b[1m \u001b[0m\u001b[1mgid_0\u001b[0m\u001b[1m \u001b[0m\u001b[1m \u001b[0m┃\u001b[1m \u001b[0m\u001b[1mcountry\u001b[0m\u001b[1m \u001b[0m┃\u001b[1m \u001b[0m\u001b[1mgid_1\u001b[0m\u001b[1m  \u001b[0m\u001b[1m \u001b[0m┃\u001b[1m \u001b[0m\u001b[1mgrp_usd_2015\u001b[0m\u001b[1m \u001b[0m┃\u001b[1m \u001b[0m\u001b[1mservices_usd_2015\u001b[0m\u001b[1m \u001b[0m┃\u001b[1m \u001b[0m\u001b[1mmanufacturing_usd_2015\u001b[0m\u001b[1m \u001b[0m┃\u001b[1m \u001b[0m\u001b[1magriculture_usd_2015\u001b[0m\u001b[1m \u001b[0m┃\u001b[1m \u001b[0m\u001b[1mgeometry\u001b[0m\u001b[1m                                                                        \u001b[0m\u001b[1m \u001b[0m┃\u001b[1m \u001b[0m\u001b[1mx\u001b[0m\u001b[1m        \u001b[0m\u001b[1m \u001b[0m┃\u001b[1m \u001b[0m\u001b[1my\u001b[0m\u001b[1m        \u001b[0m\u001b[1m \u001b[0m┃\n",
       "┡━━━━━━━━╇━━━━━━━━━╇━━━━━━━━━╇━━━━━━━━━━━━━━╇━━━━━━━━━━━━━━━━━━━╇━━━━━━━━━━━━━━━━━━━━━━━━╇━━━━━━━━━━━━━━━━━━━━━━╇━━━━━━━━━━━━━━━━━━━━━━━━━━━━━━━━━━━━━━━━━━━━━━━━━━━━━━━━━━━━━━━━━━━━━━━━━━━━━━━━━━╇━━━━━━━━━━━╇━━━━━━━━━━━┩\n",
       "│ \u001b[2mstring\u001b[0m │ \u001b[2mstring\u001b[0m  │ \u001b[2mstring\u001b[0m  │ \u001b[2mfloat64\u001b[0m      │ \u001b[2mfloat64\u001b[0m           │ \u001b[2mfloat64\u001b[0m                │ \u001b[2mfloat64\u001b[0m              │ \u001b[2mgeospatial:geometry\u001b[0m                                                              │ \u001b[2mfloat64\u001b[0m   │ \u001b[2mfloat64\u001b[0m   │\n",
       "├────────┼─────────┼─────────┼──────────────┼───────────────────┼────────────────────────┼──────────────────────┼──────────────────────────────────────────────────────────────────────────────────┼───────────┼───────────┤\n",
       "│ \u001b[32mALB   \u001b[0m │ \u001b[32mAlbania\u001b[0m │ \u001b[32mALB.1_1\u001b[0m │ \u001b[1;36m4.341915e+08\u001b[0m │      \u001b[1;36m2.009631e+08\u001b[0m │           \u001b[1;36m9.449606e+07\u001b[0m │         \u001b[1;36m8.588401e+07\u001b[0m │ \u001b[1m<\u001b[0m\u001b[1;95mPOLYGON\u001b[0m\u001b[39m \u001b[0m\u001b[1;39m(\u001b[0m\u001b[1;39m(\u001b[0m\u001b[1;36m20.379\u001b[0m\u001b[39m \u001b[0m\u001b[1;36m40.435\u001b[0m\u001b[39m, \u001b[0m\u001b[1;36m20.377\u001b[0m\u001b[39m \u001b[0m\u001b[1;36m40.436\u001b[0m\u001b[39m, \u001b[0m\u001b[1;36m20.373\u001b[0m\u001b[39m \u001b[0m\u001b[1;36m40.437\u001b[0m\u001b[39m, \u001b[0m\u001b[1;36m20.369\u001b[0m\u001b[39m \u001b[0m\u001b[1;36m40.438\u001b[0m\u001b[39m, \u001b[0m\u001b[1;36m20.36\u001b[0m\u001b[33m...\u001b[0m\u001b[1m>\u001b[0m │ \u001b[1;36m20.090775\u001b[0m │ \u001b[1;36m40.628500\u001b[0m │\n",
       "│ \u001b[32mALB   \u001b[0m │ \u001b[32mAlbania\u001b[0m │ \u001b[32mALB.2_1\u001b[0m │ \u001b[1;36m3.719427e+08\u001b[0m │      \u001b[1;36m1.721516e+08\u001b[0m │           \u001b[1;36m8.094841e+07\u001b[0m │         \u001b[1;36m7.357106e+07\u001b[0m │ \u001b[1m<\u001b[0m\u001b[1;95mPOLYGON\u001b[0m\u001b[39m \u001b[0m\u001b[1;39m(\u001b[0m\u001b[1;39m(\u001b[0m\u001b[1;36m20.422\u001b[0m\u001b[39m \u001b[0m\u001b[1;36m41.282\u001b[0m\u001b[39m, \u001b[0m\u001b[1;36m20.423\u001b[0m\u001b[39m \u001b[0m\u001b[1;36m41.282\u001b[0m\u001b[39m, \u001b[0m\u001b[1;36m20.422\u001b[0m\u001b[39m \u001b[0m\u001b[1;36m41.283\u001b[0m\u001b[39m, \u001b[0m\u001b[1;36m20.421\u001b[0m\u001b[39m \u001b[0m\u001b[1;36m41.284\u001b[0m\u001b[39m, \u001b[0m\u001b[1;36m20.42\u001b[0m\u001b[33m...\u001b[0m\u001b[1m>\u001b[0m │ \u001b[1;36m20.249534\u001b[0m │ \u001b[1;36m41.589105\u001b[0m │\n",
       "│ \u001b[32mALB   \u001b[0m │ \u001b[32mAlbania\u001b[0m │ \u001b[32mALB.3_1\u001b[0m │ \u001b[1;36m1.113524e+09\u001b[0m │      \u001b[1;36m5.153885e+08\u001b[0m │           \u001b[1;36m2.423439e+08\u001b[0m │         \u001b[1;36m2.202575e+08\u001b[0m │ \u001b[1m<\u001b[0m\u001b[1;95mPOLYGON\u001b[0m\u001b[39m \u001b[0m\u001b[1;39m(\u001b[0m\u001b[1;39m(\u001b[0m\u001b[1;36m19.638\u001b[0m\u001b[39m \u001b[0m\u001b[1;36m41.341\u001b[0m\u001b[39m, \u001b[0m\u001b[1;36m19.636\u001b[0m\u001b[39m \u001b[0m\u001b[1;36m41.337\u001b[0m\u001b[39m, \u001b[0m\u001b[1;36m19.637\u001b[0m\u001b[39m \u001b[0m\u001b[1;36m41.335\u001b[0m\u001b[39m, \u001b[0m\u001b[1;36m19.64\u001b[0m\u001b[39m \u001b[0m\u001b[1;36m41.33\u001b[0m\u001b[39m, \u001b[0m\u001b[1;36m19.642\u001b[0m\u001b[39m \u001b[0m\u001b[33m...\u001b[0m\u001b[1m>\u001b[0m │ \u001b[1;36m19.630373\u001b[0m │ \u001b[1;36m41.447333\u001b[0m │\n",
       "│ \u001b[32mALB   \u001b[0m │ \u001b[32mAlbania\u001b[0m │ \u001b[32mALB.4_1\u001b[0m │ \u001b[1;36m7.954835e+08\u001b[0m │      \u001b[1;36m3.681851e+08\u001b[0m │           \u001b[1;36m1.731265e+08\u001b[0m │         \u001b[1;36m1.573483e+08\u001b[0m │ \u001b[1m<\u001b[0m\u001b[1;95mPOLYGON\u001b[0m\u001b[39m \u001b[0m\u001b[1;39m(\u001b[0m\u001b[1;39m(\u001b[0m\u001b[1;36m20.437\u001b[0m\u001b[39m \u001b[0m\u001b[1;36m40.849\u001b[0m\u001b[39m, \u001b[0m\u001b[1;36m20.437\u001b[0m\u001b[39m \u001b[0m\u001b[1;36m40.848\u001b[0m\u001b[39m, \u001b[0m\u001b[1;36m20.44\u001b[0m\u001b[39m \u001b[0m\u001b[1;36m40.847\u001b[0m\u001b[39m, \u001b[0m\u001b[1;36m20.441\u001b[0m\u001b[39m \u001b[0m\u001b[1;36m40.841\u001b[0m\u001b[39m, \u001b[0m\u001b[1;36m20.446\u001b[0m\u001b[33m...\u001b[0m\u001b[1m>\u001b[0m │ \u001b[1;36m20.186454\u001b[0m │ \u001b[1;36m41.040028\u001b[0m │\n",
       "│ \u001b[32mALB   \u001b[0m │ \u001b[32mAlbania\u001b[0m │ \u001b[32mALB.5_1\u001b[0m │ \u001b[1;36m1.345159e+09\u001b[0m │      \u001b[1;36m6.225993e+08\u001b[0m │           \u001b[1;36m2.927561e+08\u001b[0m │         \u001b[1;36m2.660753e+08\u001b[0m │ \u001b[1m<\u001b[0m\u001b[1;95mPOLYGON\u001b[0m\u001b[39m \u001b[0m\u001b[1;39m(\u001b[0m\u001b[1;39m(\u001b[0m\u001b[1;36m19.744\u001b[0m\u001b[39m \u001b[0m\u001b[1;36m40.452\u001b[0m\u001b[39m, \u001b[0m\u001b[1;36m19.745\u001b[0m\u001b[39m \u001b[0m\u001b[1;36m40.457\u001b[0m\u001b[39m, \u001b[0m\u001b[1;36m19.743\u001b[0m\u001b[39m \u001b[0m\u001b[1;36m40.459\u001b[0m\u001b[39m, \u001b[0m\u001b[1;36m19.741\u001b[0m\u001b[39m \u001b[0m\u001b[1;36m40.462\u001b[0m\u001b[39m, \u001b[0m\u001b[1;36m19.73\u001b[0m\u001b[33m...\u001b[0m\u001b[1m>\u001b[0m │ \u001b[1;36m19.620528\u001b[0m │ \u001b[1;36m40.774633\u001b[0m │\n",
       "└────────┴─────────┴─────────┴──────────────┴───────────────────┴────────────────────────┴──────────────────────┴──────────────────────────────────────────────────────────────────────────────────┴───────────┴───────────┘"
      ]
     },
     "execution_count": 77,
     "metadata": {},
     "output_type": "execute_result"
    }
   ],
   "source": [
    "dose_wdi.head()"
   ]
  },
  {
   "cell_type": "code",
   "execution_count": null,
   "metadata": {},
   "outputs": [
    {
     "data": {
      "application/vnd.jupyter.widget-view+json": {
       "model_id": "2144322d588947729d182a7eb361004e",
       "version_major": 2,
       "version_minor": 0
      },
      "text/plain": [
       "FloatProgress(value=0.0, layout=Layout(width='auto'), style=ProgressStyle(bar_color='black'))"
      ]
     },
     "metadata": {},
     "output_type": "display_data"
    }
   ],
   "source": [
    "# the next steps could be done with this function in the future : \n",
    "# h3_gid_dens = snoo.sn_rescale(input=overture_h3_geom,\n",
    "#                 weight=dose_wdi,\n",
    "#                 weight_var=\"agriculture_usd_2015\",\n",
    "#                 weight_id=\"gid_1\",).cache()"
   ]
  },
  {
   "cell_type": "code",
   "execution_count": null,
   "metadata": {},
   "outputs": [],
   "source": [
    "h3_gid_dens = overture_h3_geom.alias(\"t_geom\").sql(\"\"\"\n",
    "SELECT t_geom.* EXCLUDE geom,\n",
    "        dose_wdi.gid_1,\n",
    "        dose_wdi.gid_0,\n",
    "        dose_wdi.grp_usd_2015,\n",
    "        dose_wdi.services_usd_2015,\n",
    "        dose_wdi.manufacturing_usd_2015,\n",
    "        dose_wdi.agriculture_usd_2015\n",
    "    FROM t_geom \n",
    "    LEFT OUTER JOIN dose_wdi \n",
    "    ON ST_CONTAINS(dose_wdi.geometry,t_geom.geom::GEOMETRY);\n",
    "\"\"\").cache()"
   ]
  },
  {
   "cell_type": "code",
   "execution_count": 81,
   "metadata": {},
   "outputs": [
    {
     "data": {
      "text/html": [
       "<pre style=\"white-space:pre;overflow-x:auto;line-height:normal;font-family:Menlo,'DejaVu Sans Mono',consolas,'Courier New',monospace\"></pre>\n"
      ],
      "text/plain": []
     },
     "metadata": {},
     "output_type": "display_data"
    },
    {
     "name": "stdout",
     "output_type": "stream",
     "text": [
      "┌────────┐\n",
      "│ \u001b[1;36m285622\u001b[0m │\n",
      "└────────┘\n"
     ]
    },
    {
     "data": {
      "text/html": [
       "<pre style=\"white-space:pre;overflow-x:auto;line-height:normal;font-family:Menlo,'DejaVu Sans Mono',consolas,'Courier New',monospace\">┏━━━━━━━━━━━━━━━━━┳━━━━━━━━━━━━━━━┳━━━━━━━━━━━━━┳━━━━━━━━━━┳━━━━━━━━━┳━━━━━━━━━━━━━━━━━━━━━━┓\n",
       "┃<span style=\"font-weight: bold\"> h3_id           </span>┃<span style=\"font-weight: bold\"> manufacturing </span>┃<span style=\"font-weight: bold\"> agriculture </span>┃<span style=\"font-weight: bold\"> services </span>┃<span style=\"font-weight: bold\"> gid_1   </span>┃<span style=\"font-weight: bold\"> agriculture_usd_2015 </span>┃\n",
       "┡━━━━━━━━━━━━━━━━━╇━━━━━━━━━━━━━━━╇━━━━━━━━━━━━━╇━━━━━━━━━━╇━━━━━━━━━╇━━━━━━━━━━━━━━━━━━━━━━┩\n",
       "│ <span style=\"color: #7f7f7f; text-decoration-color: #7f7f7f\">string</span>          │ <span style=\"color: #7f7f7f; text-decoration-color: #7f7f7f\">int64</span>         │ <span style=\"color: #7f7f7f; text-decoration-color: #7f7f7f\">int64</span>       │ <span style=\"color: #7f7f7f; text-decoration-color: #7f7f7f\">int64</span>    │ <span style=\"color: #7f7f7f; text-decoration-color: #7f7f7f\">string</span>  │ <span style=\"color: #7f7f7f; text-decoration-color: #7f7f7f\">float64</span>              │\n",
       "├─────────────────┼───────────────┼─────────────┼──────────┼─────────┼──────────────────────┤\n",
       "│ <span style=\"color: #008000; text-decoration-color: #008000\">851e105bfffffff</span> │           <span style=\"color: #008080; text-decoration-color: #008080; font-weight: bold\">148</span> │         <span style=\"color: #008080; text-decoration-color: #008080; font-weight: bold\">279</span> │      <span style=\"color: #008080; text-decoration-color: #008080; font-weight: bold\">346</span> │ <span style=\"color: #008000; text-decoration-color: #008000\">AUT.2_1</span> │         <span style=\"color: #008080; text-decoration-color: #008080; font-weight: bold\">3.406501e+08</span> │\n",
       "│ <span style=\"color: #008000; text-decoration-color: #008000\">851e0673fffffff</span> │           <span style=\"color: #008080; text-decoration-color: #008080; font-weight: bold\">142</span> │          <span style=\"color: #008080; text-decoration-color: #008080; font-weight: bold\">34</span> │      <span style=\"color: #008080; text-decoration-color: #008080; font-weight: bold\">101</span> │ <span style=\"color: #008000; text-decoration-color: #008000\">AUT.3_1</span> │         <span style=\"color: #008080; text-decoration-color: #008080; font-weight: bold\">1.264955e+09</span> │\n",
       "│ <span style=\"color: #008000; text-decoration-color: #008000\">851e3327fffffff</span> │            <span style=\"color: #008080; text-decoration-color: #008080; font-weight: bold\">98</span> │         <span style=\"color: #008080; text-decoration-color: #008080; font-weight: bold\">189</span> │       <span style=\"color: #008080; text-decoration-color: #008080; font-weight: bold\">85</span> │ <span style=\"color: #008000; text-decoration-color: #008000\">AUT.3_1</span> │         <span style=\"color: #008080; text-decoration-color: #008080; font-weight: bold\">1.264955e+09</span> │\n",
       "│ <span style=\"color: #008000; text-decoration-color: #008000\">851e06cbfffffff</span> │            <span style=\"color: #008080; text-decoration-color: #008080; font-weight: bold\">79</span> │         <span style=\"color: #008080; text-decoration-color: #008080; font-weight: bold\">425</span> │      <span style=\"color: #008080; text-decoration-color: #008080; font-weight: bold\">145</span> │ <span style=\"color: #008000; text-decoration-color: #008000\">AUT.3_1</span> │         <span style=\"color: #008080; text-decoration-color: #008080; font-weight: bold\">1.264955e+09</span> │\n",
       "│ <span style=\"color: #008000; text-decoration-color: #008000\">851e158ffffffff</span> │            <span style=\"color: #008080; text-decoration-color: #008080; font-weight: bold\">48</span> │         <span style=\"color: #008080; text-decoration-color: #008080; font-weight: bold\">103</span> │      <span style=\"color: #008080; text-decoration-color: #008080; font-weight: bold\">106</span> │ <span style=\"color: #008000; text-decoration-color: #008000\">AUT.3_1</span> │         <span style=\"color: #008080; text-decoration-color: #008080; font-weight: bold\">1.264955e+09</span> │\n",
       "└─────────────────┴───────────────┴─────────────┴──────────┴─────────┴──────────────────────┘\n",
       "</pre>\n"
      ],
      "text/plain": [
       "┏━━━━━━━━━━━━━━━━━┳━━━━━━━━━━━━━━━┳━━━━━━━━━━━━━┳━━━━━━━━━━┳━━━━━━━━━┳━━━━━━━━━━━━━━━━━━━━━━┓\n",
       "┃\u001b[1m \u001b[0m\u001b[1mh3_id\u001b[0m\u001b[1m          \u001b[0m\u001b[1m \u001b[0m┃\u001b[1m \u001b[0m\u001b[1mmanufacturing\u001b[0m\u001b[1m \u001b[0m┃\u001b[1m \u001b[0m\u001b[1magriculture\u001b[0m\u001b[1m \u001b[0m┃\u001b[1m \u001b[0m\u001b[1mservices\u001b[0m\u001b[1m \u001b[0m┃\u001b[1m \u001b[0m\u001b[1mgid_1\u001b[0m\u001b[1m  \u001b[0m\u001b[1m \u001b[0m┃\u001b[1m \u001b[0m\u001b[1magriculture_usd_2015\u001b[0m\u001b[1m \u001b[0m┃\n",
       "┡━━━━━━━━━━━━━━━━━╇━━━━━━━━━━━━━━━╇━━━━━━━━━━━━━╇━━━━━━━━━━╇━━━━━━━━━╇━━━━━━━━━━━━━━━━━━━━━━┩\n",
       "│ \u001b[2mstring\u001b[0m          │ \u001b[2mint64\u001b[0m         │ \u001b[2mint64\u001b[0m       │ \u001b[2mint64\u001b[0m    │ \u001b[2mstring\u001b[0m  │ \u001b[2mfloat64\u001b[0m              │\n",
       "├─────────────────┼───────────────┼─────────────┼──────────┼─────────┼──────────────────────┤\n",
       "│ \u001b[32m851e105bfffffff\u001b[0m │           \u001b[1;36m148\u001b[0m │         \u001b[1;36m279\u001b[0m │      \u001b[1;36m346\u001b[0m │ \u001b[32mAUT.2_1\u001b[0m │         \u001b[1;36m3.406501e+08\u001b[0m │\n",
       "│ \u001b[32m851e0673fffffff\u001b[0m │           \u001b[1;36m142\u001b[0m │          \u001b[1;36m34\u001b[0m │      \u001b[1;36m101\u001b[0m │ \u001b[32mAUT.3_1\u001b[0m │         \u001b[1;36m1.264955e+09\u001b[0m │\n",
       "│ \u001b[32m851e3327fffffff\u001b[0m │            \u001b[1;36m98\u001b[0m │         \u001b[1;36m189\u001b[0m │       \u001b[1;36m85\u001b[0m │ \u001b[32mAUT.3_1\u001b[0m │         \u001b[1;36m1.264955e+09\u001b[0m │\n",
       "│ \u001b[32m851e06cbfffffff\u001b[0m │            \u001b[1;36m79\u001b[0m │         \u001b[1;36m425\u001b[0m │      \u001b[1;36m145\u001b[0m │ \u001b[32mAUT.3_1\u001b[0m │         \u001b[1;36m1.264955e+09\u001b[0m │\n",
       "│ \u001b[32m851e158ffffffff\u001b[0m │            \u001b[1;36m48\u001b[0m │         \u001b[1;36m103\u001b[0m │      \u001b[1;36m106\u001b[0m │ \u001b[32mAUT.3_1\u001b[0m │         \u001b[1;36m1.264955e+09\u001b[0m │\n",
       "└─────────────────┴───────────────┴─────────────┴──────────┴─────────┴──────────────────────┘"
      ]
     },
     "execution_count": 81,
     "metadata": {},
     "output_type": "execute_result"
    }
   ],
   "source": [
    "print(h3_gid_dens.count())\n",
    "h3_gid_dens.head()"
   ]
  },
  {
   "cell_type": "code",
   "execution_count": 82,
   "metadata": {},
   "outputs": [
    {
     "data": {
      "text/plain": [
       "['boundaries',\n",
       " 'dose_wdi',\n",
       " 'ibis_cache_6j2ssrlugfdm5k3f5ob4vup76q',\n",
       " 'ibis_cache_sotfmq7s5fh67mwnjwguqmxkhe',\n",
       " 'overture_h3_geom',\n",
       " 'overture_landuse',\n",
       " 'overture_pois',\n",
       " 'places',\n",
       " 'places_types']"
      ]
     },
     "execution_count": 82,
     "metadata": {},
     "output_type": "execute_result"
    }
   ],
   "source": [
    "conn.list_tables()"
   ]
  },
  {
   "cell_type": "code",
   "execution_count": 55,
   "metadata": {},
   "outputs": [],
   "source": [
    "#  similar to previous cell but using windows: \n",
    "grid_dens = (\n",
    "    h3_gid_dens\n",
    "    .mutate(\n",
    "        services_dens=(_.services/_.services.sum().over(group_by=_.gid_1)),\n",
    "        manufacturing_dens=(_.manufacturing/_.manufacturing.sum().over(group_by=_.gid_1)),\n",
    "        )\n",
    "    .mutate(\n",
    "        services_h3_gdp = (_.services_dens*_.services_usd_2015).round(),\n",
    "        manufacturing_h3_gdp = (_.manufacturing_dens*_.manufacturing_usd_2015).round(),\n",
    "            )\n",
    "    .fill_null({\n",
    "        \"services_h3_gdp\" : 0,\n",
    "        \"manufacturing_h3_gdp\" : 0,\n",
    "        })\n",
    ")"
   ]
  },
  {
   "cell_type": "code",
   "execution_count": 83,
   "metadata": {},
   "outputs": [
    {
     "data": {
      "text/html": [
       "<pre style=\"white-space:pre;overflow-x:auto;line-height:normal;font-family:Menlo,'DejaVu Sans Mono',consolas,'Courier New',monospace\">┏━━━━━━━━━━━━━━━━━┳━━━━━━━━━━━━━━━┳━━━━━━━━━━━━━┳━━━━━━━━━━┳━━━━━━━━━┳━━━━━━━━┳━━━━━━━━━━━━━━┳━━━━━━━━━━━━━━━━━━━┳━━━━━━━━━━━━━━━━━━━━━━━━┳━━━━━━━━━━━━━━━━━━━━━━┳━━━━━━━━━━━━━━━┳━━━━━━━━━━━━━━━━━━━━┳━━━━━━━━━━━━━━━━━┳━━━━━━━━━━━━━━━━━━━━━━┓\n",
       "┃<span style=\"font-weight: bold\"> h3_id           </span>┃<span style=\"font-weight: bold\"> manufacturing </span>┃<span style=\"font-weight: bold\"> agriculture </span>┃<span style=\"font-weight: bold\"> services </span>┃<span style=\"font-weight: bold\"> gid_1   </span>┃<span style=\"font-weight: bold\"> gid_0  </span>┃<span style=\"font-weight: bold\"> grp_usd_2015 </span>┃<span style=\"font-weight: bold\"> services_usd_2015 </span>┃<span style=\"font-weight: bold\"> manufacturing_usd_2015 </span>┃<span style=\"font-weight: bold\"> agriculture_usd_2015 </span>┃<span style=\"font-weight: bold\"> services_dens </span>┃<span style=\"font-weight: bold\"> manufacturing_dens </span>┃<span style=\"font-weight: bold\"> services_h3_gdp </span>┃<span style=\"font-weight: bold\"> manufacturing_h3_gdp </span>┃\n",
       "┡━━━━━━━━━━━━━━━━━╇━━━━━━━━━━━━━━━╇━━━━━━━━━━━━━╇━━━━━━━━━━╇━━━━━━━━━╇━━━━━━━━╇━━━━━━━━━━━━━━╇━━━━━━━━━━━━━━━━━━━╇━━━━━━━━━━━━━━━━━━━━━━━━╇━━━━━━━━━━━━━━━━━━━━━━╇━━━━━━━━━━━━━━━╇━━━━━━━━━━━━━━━━━━━━╇━━━━━━━━━━━━━━━━━╇━━━━━━━━━━━━━━━━━━━━━━┩\n",
       "│ <span style=\"color: #7f7f7f; text-decoration-color: #7f7f7f\">string</span>          │ <span style=\"color: #7f7f7f; text-decoration-color: #7f7f7f\">int64</span>         │ <span style=\"color: #7f7f7f; text-decoration-color: #7f7f7f\">int64</span>       │ <span style=\"color: #7f7f7f; text-decoration-color: #7f7f7f\">int64</span>    │ <span style=\"color: #7f7f7f; text-decoration-color: #7f7f7f\">string</span>  │ <span style=\"color: #7f7f7f; text-decoration-color: #7f7f7f\">string</span> │ <span style=\"color: #7f7f7f; text-decoration-color: #7f7f7f\">float64</span>      │ <span style=\"color: #7f7f7f; text-decoration-color: #7f7f7f\">float64</span>           │ <span style=\"color: #7f7f7f; text-decoration-color: #7f7f7f\">float64</span>                │ <span style=\"color: #7f7f7f; text-decoration-color: #7f7f7f\">float64</span>              │ <span style=\"color: #7f7f7f; text-decoration-color: #7f7f7f\">float64</span>       │ <span style=\"color: #7f7f7f; text-decoration-color: #7f7f7f\">float64</span>            │ <span style=\"color: #7f7f7f; text-decoration-color: #7f7f7f\">int64</span>           │ <span style=\"color: #7f7f7f; text-decoration-color: #7f7f7f\">int64</span>                │\n",
       "├─────────────────┼───────────────┼─────────────┼──────────┼─────────┼────────┼──────────────┼───────────────────┼────────────────────────┼──────────────────────┼───────────────┼────────────────────┼─────────────────┼──────────────────────┤\n",
       "│ <span style=\"color: #008000; text-decoration-color: #008000\">851fa443fffffff</span> │          <span style=\"color: #008080; text-decoration-color: #008080; font-weight: bold\">1705</span> │        <span style=\"color: #008080; text-decoration-color: #008080; font-weight: bold\">1321</span> │    <span style=\"color: #008080; text-decoration-color: #008080; font-weight: bold\">13363</span> │ <span style=\"color: #008000; text-decoration-color: #008000\">BEL.1_1</span> │ <span style=\"color: #008000; text-decoration-color: #008000\">BEL   </span> │ <span style=\"color: #008080; text-decoration-color: #008080; font-weight: bold\">8.757383e+10</span> │      <span style=\"color: #008080; text-decoration-color: #008080; font-weight: bold\">7.159683e+10</span> │           <span style=\"color: #008080; text-decoration-color: #008080; font-weight: bold\">6.837799e+09</span> │         <span style=\"color: #008080; text-decoration-color: #008080; font-weight: bold\">1.830840e+07</span> │      <span style=\"color: #008080; text-decoration-color: #008080; font-weight: bold\">0.689703</span> │            <span style=\"color: #008080; text-decoration-color: #008080; font-weight: bold\">0.70953</span> │     <span style=\"color: #008080; text-decoration-color: #008080; font-weight: bold\">49380563950</span> │           <span style=\"color: #008080; text-decoration-color: #008080; font-weight: bold\">4851621874</span> │\n",
       "│ <span style=\"color: #008000; text-decoration-color: #008000\">851fa44ffffffff</span> │           <span style=\"color: #008080; text-decoration-color: #008080; font-weight: bold\">698</span> │         <span style=\"color: #008080; text-decoration-color: #008080; font-weight: bold\">309</span> │     <span style=\"color: #008080; text-decoration-color: #008080; font-weight: bold\">6012</span> │ <span style=\"color: #008000; text-decoration-color: #008000\">BEL.1_1</span> │ <span style=\"color: #008000; text-decoration-color: #008000\">BEL   </span> │ <span style=\"color: #008080; text-decoration-color: #008080; font-weight: bold\">8.757383e+10</span> │      <span style=\"color: #008080; text-decoration-color: #008080; font-weight: bold\">7.159683e+10</span> │           <span style=\"color: #008080; text-decoration-color: #008080; font-weight: bold\">6.837799e+09</span> │         <span style=\"color: #008080; text-decoration-color: #008080; font-weight: bold\">1.830840e+07</span> │      <span style=\"color: #008080; text-decoration-color: #008080; font-weight: bold\">0.310297</span> │            <span style=\"color: #008080; text-decoration-color: #008080; font-weight: bold\">0.29047</span> │     <span style=\"color: #008080; text-decoration-color: #008080; font-weight: bold\">22216265095</span> │           <span style=\"color: #008080; text-decoration-color: #008080; font-weight: bold\">1986177166</span> │\n",
       "│ <span style=\"color: #008000; text-decoration-color: #008000\">8558a3dbfffffff</span> │             <span style=\"color: #008080; text-decoration-color: #008080; font-weight: bold\">5</span> │           <span style=\"color: #008080; text-decoration-color: #008080; font-weight: bold\">9</span> │        <span style=\"color: #008080; text-decoration-color: #008080; font-weight: bold\">0</span> │ <span style=\"color: #008000; text-decoration-color: #008000\">BEN    </span> │ <span style=\"color: #008000; text-decoration-color: #008000\">BEN   </span> │ <span style=\"color: #008080; text-decoration-color: #008080; font-weight: bold\">1.138816e+10</span> │      <span style=\"color: #008080; text-decoration-color: #008080; font-weight: bold\">5.607633e+09</span> │           <span style=\"color: #008080; text-decoration-color: #008080; font-weight: bold\">1.865961e+09</span> │         <span style=\"color: #008080; text-decoration-color: #008080; font-weight: bold\">3.005573e+09</span> │      <span style=\"color: #008080; text-decoration-color: #008080; font-weight: bold\">0.000000</span> │            <span style=\"color: #008080; text-decoration-color: #008080; font-weight: bold\">0.00780</span> │               <span style=\"color: #008080; text-decoration-color: #008080; font-weight: bold\">0</span> │             <span style=\"color: #008080; text-decoration-color: #008080; font-weight: bold\">14555078</span> │\n",
       "│ <span style=\"color: #008000; text-decoration-color: #008000\">8558b137fffffff</span> │             <span style=\"color: #008080; text-decoration-color: #008080; font-weight: bold\">0</span> │           <span style=\"color: #008080; text-decoration-color: #008080; font-weight: bold\">5</span> │        <span style=\"color: #008080; text-decoration-color: #008080; font-weight: bold\">0</span> │ <span style=\"color: #008000; text-decoration-color: #008000\">BEN    </span> │ <span style=\"color: #008000; text-decoration-color: #008000\">BEN   </span> │ <span style=\"color: #008080; text-decoration-color: #008080; font-weight: bold\">1.138816e+10</span> │      <span style=\"color: #008080; text-decoration-color: #008080; font-weight: bold\">5.607633e+09</span> │           <span style=\"color: #008080; text-decoration-color: #008080; font-weight: bold\">1.865961e+09</span> │         <span style=\"color: #008080; text-decoration-color: #008080; font-weight: bold\">3.005573e+09</span> │      <span style=\"color: #008080; text-decoration-color: #008080; font-weight: bold\">0.000000</span> │            <span style=\"color: #008080; text-decoration-color: #008080; font-weight: bold\">0.00000</span> │               <span style=\"color: #008080; text-decoration-color: #008080; font-weight: bold\">0</span> │                    <span style=\"color: #008080; text-decoration-color: #008080; font-weight: bold\">0</span> │\n",
       "│ <span style=\"color: #008000; text-decoration-color: #008000\">8558167bfffffff</span> │             <span style=\"color: #008080; text-decoration-color: #008080; font-weight: bold\">0</span> │          <span style=\"color: #008080; text-decoration-color: #008080; font-weight: bold\">31</span> │        <span style=\"color: #008080; text-decoration-color: #008080; font-weight: bold\">9</span> │ <span style=\"color: #008000; text-decoration-color: #008000\">BEN    </span> │ <span style=\"color: #008000; text-decoration-color: #008000\">BEN   </span> │ <span style=\"color: #008080; text-decoration-color: #008080; font-weight: bold\">1.138816e+10</span> │      <span style=\"color: #008080; text-decoration-color: #008080; font-weight: bold\">5.607633e+09</span> │           <span style=\"color: #008080; text-decoration-color: #008080; font-weight: bold\">1.865961e+09</span> │         <span style=\"color: #008080; text-decoration-color: #008080; font-weight: bold\">3.005573e+09</span> │      <span style=\"color: #008080; text-decoration-color: #008080; font-weight: bold\">0.002160</span> │            <span style=\"color: #008080; text-decoration-color: #008080; font-weight: bold\">0.00000</span> │        <span style=\"color: #008080; text-decoration-color: #008080; font-weight: bold\">12114425</span> │                    <span style=\"color: #008080; text-decoration-color: #008080; font-weight: bold\">0</span> │\n",
       "└─────────────────┴───────────────┴─────────────┴──────────┴─────────┴────────┴──────────────┴───────────────────┴────────────────────────┴──────────────────────┴───────────────┴────────────────────┴─────────────────┴──────────────────────┘\n",
       "</pre>\n"
      ],
      "text/plain": [
       "┏━━━━━━━━━━━━━━━━━┳━━━━━━━━━━━━━━━┳━━━━━━━━━━━━━┳━━━━━━━━━━┳━━━━━━━━━┳━━━━━━━━┳━━━━━━━━━━━━━━┳━━━━━━━━━━━━━━━━━━━┳━━━━━━━━━━━━━━━━━━━━━━━━┳━━━━━━━━━━━━━━━━━━━━━━┳━━━━━━━━━━━━━━━┳━━━━━━━━━━━━━━━━━━━━┳━━━━━━━━━━━━━━━━━┳━━━━━━━━━━━━━━━━━━━━━━┓\n",
       "┃\u001b[1m \u001b[0m\u001b[1mh3_id\u001b[0m\u001b[1m          \u001b[0m\u001b[1m \u001b[0m┃\u001b[1m \u001b[0m\u001b[1mmanufacturing\u001b[0m\u001b[1m \u001b[0m┃\u001b[1m \u001b[0m\u001b[1magriculture\u001b[0m\u001b[1m \u001b[0m┃\u001b[1m \u001b[0m\u001b[1mservices\u001b[0m\u001b[1m \u001b[0m┃\u001b[1m \u001b[0m\u001b[1mgid_1\u001b[0m\u001b[1m  \u001b[0m\u001b[1m \u001b[0m┃\u001b[1m \u001b[0m\u001b[1mgid_0\u001b[0m\u001b[1m \u001b[0m\u001b[1m \u001b[0m┃\u001b[1m \u001b[0m\u001b[1mgrp_usd_2015\u001b[0m\u001b[1m \u001b[0m┃\u001b[1m \u001b[0m\u001b[1mservices_usd_2015\u001b[0m\u001b[1m \u001b[0m┃\u001b[1m \u001b[0m\u001b[1mmanufacturing_usd_2015\u001b[0m\u001b[1m \u001b[0m┃\u001b[1m \u001b[0m\u001b[1magriculture_usd_2015\u001b[0m\u001b[1m \u001b[0m┃\u001b[1m \u001b[0m\u001b[1mservices_dens\u001b[0m\u001b[1m \u001b[0m┃\u001b[1m \u001b[0m\u001b[1mmanufacturing_dens\u001b[0m\u001b[1m \u001b[0m┃\u001b[1m \u001b[0m\u001b[1mservices_h3_gdp\u001b[0m\u001b[1m \u001b[0m┃\u001b[1m \u001b[0m\u001b[1mmanufacturing_h3_gdp\u001b[0m\u001b[1m \u001b[0m┃\n",
       "┡━━━━━━━━━━━━━━━━━╇━━━━━━━━━━━━━━━╇━━━━━━━━━━━━━╇━━━━━━━━━━╇━━━━━━━━━╇━━━━━━━━╇━━━━━━━━━━━━━━╇━━━━━━━━━━━━━━━━━━━╇━━━━━━━━━━━━━━━━━━━━━━━━╇━━━━━━━━━━━━━━━━━━━━━━╇━━━━━━━━━━━━━━━╇━━━━━━━━━━━━━━━━━━━━╇━━━━━━━━━━━━━━━━━╇━━━━━━━━━━━━━━━━━━━━━━┩\n",
       "│ \u001b[2mstring\u001b[0m          │ \u001b[2mint64\u001b[0m         │ \u001b[2mint64\u001b[0m       │ \u001b[2mint64\u001b[0m    │ \u001b[2mstring\u001b[0m  │ \u001b[2mstring\u001b[0m │ \u001b[2mfloat64\u001b[0m      │ \u001b[2mfloat64\u001b[0m           │ \u001b[2mfloat64\u001b[0m                │ \u001b[2mfloat64\u001b[0m              │ \u001b[2mfloat64\u001b[0m       │ \u001b[2mfloat64\u001b[0m            │ \u001b[2mint64\u001b[0m           │ \u001b[2mint64\u001b[0m                │\n",
       "├─────────────────┼───────────────┼─────────────┼──────────┼─────────┼────────┼──────────────┼───────────────────┼────────────────────────┼──────────────────────┼───────────────┼────────────────────┼─────────────────┼──────────────────────┤\n",
       "│ \u001b[32m851fa443fffffff\u001b[0m │          \u001b[1;36m1705\u001b[0m │        \u001b[1;36m1321\u001b[0m │    \u001b[1;36m13363\u001b[0m │ \u001b[32mBEL.1_1\u001b[0m │ \u001b[32mBEL   \u001b[0m │ \u001b[1;36m8.757383e+10\u001b[0m │      \u001b[1;36m7.159683e+10\u001b[0m │           \u001b[1;36m6.837799e+09\u001b[0m │         \u001b[1;36m1.830840e+07\u001b[0m │      \u001b[1;36m0.689703\u001b[0m │            \u001b[1;36m0.70953\u001b[0m │     \u001b[1;36m49380563950\u001b[0m │           \u001b[1;36m4851621874\u001b[0m │\n",
       "│ \u001b[32m851fa44ffffffff\u001b[0m │           \u001b[1;36m698\u001b[0m │         \u001b[1;36m309\u001b[0m │     \u001b[1;36m6012\u001b[0m │ \u001b[32mBEL.1_1\u001b[0m │ \u001b[32mBEL   \u001b[0m │ \u001b[1;36m8.757383e+10\u001b[0m │      \u001b[1;36m7.159683e+10\u001b[0m │           \u001b[1;36m6.837799e+09\u001b[0m │         \u001b[1;36m1.830840e+07\u001b[0m │      \u001b[1;36m0.310297\u001b[0m │            \u001b[1;36m0.29047\u001b[0m │     \u001b[1;36m22216265095\u001b[0m │           \u001b[1;36m1986177166\u001b[0m │\n",
       "│ \u001b[32m8558a3dbfffffff\u001b[0m │             \u001b[1;36m5\u001b[0m │           \u001b[1;36m9\u001b[0m │        \u001b[1;36m0\u001b[0m │ \u001b[32mBEN    \u001b[0m │ \u001b[32mBEN   \u001b[0m │ \u001b[1;36m1.138816e+10\u001b[0m │      \u001b[1;36m5.607633e+09\u001b[0m │           \u001b[1;36m1.865961e+09\u001b[0m │         \u001b[1;36m3.005573e+09\u001b[0m │      \u001b[1;36m0.000000\u001b[0m │            \u001b[1;36m0.00780\u001b[0m │               \u001b[1;36m0\u001b[0m │             \u001b[1;36m14555078\u001b[0m │\n",
       "│ \u001b[32m8558b137fffffff\u001b[0m │             \u001b[1;36m0\u001b[0m │           \u001b[1;36m5\u001b[0m │        \u001b[1;36m0\u001b[0m │ \u001b[32mBEN    \u001b[0m │ \u001b[32mBEN   \u001b[0m │ \u001b[1;36m1.138816e+10\u001b[0m │      \u001b[1;36m5.607633e+09\u001b[0m │           \u001b[1;36m1.865961e+09\u001b[0m │         \u001b[1;36m3.005573e+09\u001b[0m │      \u001b[1;36m0.000000\u001b[0m │            \u001b[1;36m0.00000\u001b[0m │               \u001b[1;36m0\u001b[0m │                    \u001b[1;36m0\u001b[0m │\n",
       "│ \u001b[32m8558167bfffffff\u001b[0m │             \u001b[1;36m0\u001b[0m │          \u001b[1;36m31\u001b[0m │        \u001b[1;36m9\u001b[0m │ \u001b[32mBEN    \u001b[0m │ \u001b[32mBEN   \u001b[0m │ \u001b[1;36m1.138816e+10\u001b[0m │      \u001b[1;36m5.607633e+09\u001b[0m │           \u001b[1;36m1.865961e+09\u001b[0m │         \u001b[1;36m3.005573e+09\u001b[0m │      \u001b[1;36m0.002160\u001b[0m │            \u001b[1;36m0.00000\u001b[0m │        \u001b[1;36m12114425\u001b[0m │                    \u001b[1;36m0\u001b[0m │\n",
       "└─────────────────┴───────────────┴─────────────┴──────────┴─────────┴────────┴──────────────┴───────────────────┴────────────────────────┴──────────────────────┴───────────────┴────────────────────┴─────────────────┴──────────────────────┘"
      ]
     },
     "execution_count": 83,
     "metadata": {},
     "output_type": "execute_result"
    }
   ],
   "source": [
    "grid_dens.head()"
   ]
  },
  {
   "cell_type": "code",
   "execution_count": 57,
   "metadata": {},
   "outputs": [],
   "source": [
    "# ib.to_sql(grid_dens)"
   ]
  },
  {
   "cell_type": "code",
   "execution_count": 84,
   "metadata": {},
   "outputs": [],
   "source": [
    "h3_grid=(\n",
    "    grid_dens\n",
    "    .select(~s.matches(\"(_usd_)|(_dens)|(agriculture)\")\n",
    "            )\n",
    ").execute()"
   ]
  },
  {
   "cell_type": "code",
   "execution_count": 85,
   "metadata": {},
   "outputs": [
    {
     "name": "stdout",
     "output_type": "stream",
     "text": [
      "(285622, 7)\n"
     ]
    },
    {
     "data": {
      "application/vnd.microsoft.datawrangler.viewer.v0+json": {
       "columns": [
        {
         "name": "index",
         "rawType": "int64",
         "type": "integer"
        },
        {
         "name": "h3_id",
         "rawType": "object",
         "type": "string"
        },
        {
         "name": "manufacturing",
         "rawType": "int64",
         "type": "integer"
        },
        {
         "name": "services",
         "rawType": "int64",
         "type": "integer"
        },
        {
         "name": "gid_1",
         "rawType": "object",
         "type": "string"
        },
        {
         "name": "gid_0",
         "rawType": "object",
         "type": "string"
        },
        {
         "name": "services_h3_gdp",
         "rawType": "int64",
         "type": "integer"
        },
        {
         "name": "manufacturing_h3_gdp",
         "rawType": "float64",
         "type": "float"
        }
       ],
       "conversionMethod": "pd.DataFrame",
       "ref": "31702db7-15fc-47f4-9c2d-abfd5ada9696",
       "rows": [
        [
         "0",
         "851fa443fffffff",
         "1705",
         "13363",
         "BEL.1_1",
         "BEL",
         "49380563950",
         "4851621874.0"
        ],
        [
         "1",
         "851fa44ffffffff",
         "698",
         "6012",
         "BEL.1_1",
         "BEL",
         "22216265095",
         "1986177166.0"
        ],
        [
         "2",
         "8558a3dbfffffff",
         "5",
         "0",
         "BEN",
         "BEN",
         "0",
         "14555078.0"
        ],
        [
         "3",
         "8558b137fffffff",
         "0",
         "0",
         "BEN",
         "BEN",
         "0",
         "0.0"
        ],
        [
         "4",
         "8558167bfffffff",
         "0",
         "9",
         "BEN",
         "BEN",
         "12114425",
         "0.0"
        ]
       ],
       "shape": {
        "columns": 7,
        "rows": 5
       }
      },
      "text/html": [
       "<div>\n",
       "<style scoped>\n",
       "    .dataframe tbody tr th:only-of-type {\n",
       "        vertical-align: middle;\n",
       "    }\n",
       "\n",
       "    .dataframe tbody tr th {\n",
       "        vertical-align: top;\n",
       "    }\n",
       "\n",
       "    .dataframe thead th {\n",
       "        text-align: right;\n",
       "    }\n",
       "</style>\n",
       "<table border=\"1\" class=\"dataframe\">\n",
       "  <thead>\n",
       "    <tr style=\"text-align: right;\">\n",
       "      <th></th>\n",
       "      <th>h3_id</th>\n",
       "      <th>manufacturing</th>\n",
       "      <th>services</th>\n",
       "      <th>gid_1</th>\n",
       "      <th>gid_0</th>\n",
       "      <th>services_h3_gdp</th>\n",
       "      <th>manufacturing_h3_gdp</th>\n",
       "    </tr>\n",
       "  </thead>\n",
       "  <tbody>\n",
       "    <tr>\n",
       "      <th>0</th>\n",
       "      <td>851fa443fffffff</td>\n",
       "      <td>1705</td>\n",
       "      <td>13363</td>\n",
       "      <td>BEL.1_1</td>\n",
       "      <td>BEL</td>\n",
       "      <td>49380563950</td>\n",
       "      <td>4.851622e+09</td>\n",
       "    </tr>\n",
       "    <tr>\n",
       "      <th>1</th>\n",
       "      <td>851fa44ffffffff</td>\n",
       "      <td>698</td>\n",
       "      <td>6012</td>\n",
       "      <td>BEL.1_1</td>\n",
       "      <td>BEL</td>\n",
       "      <td>22216265095</td>\n",
       "      <td>1.986177e+09</td>\n",
       "    </tr>\n",
       "    <tr>\n",
       "      <th>2</th>\n",
       "      <td>8558a3dbfffffff</td>\n",
       "      <td>5</td>\n",
       "      <td>0</td>\n",
       "      <td>BEN</td>\n",
       "      <td>BEN</td>\n",
       "      <td>0</td>\n",
       "      <td>1.455508e+07</td>\n",
       "    </tr>\n",
       "    <tr>\n",
       "      <th>3</th>\n",
       "      <td>8558b137fffffff</td>\n",
       "      <td>0</td>\n",
       "      <td>0</td>\n",
       "      <td>BEN</td>\n",
       "      <td>BEN</td>\n",
       "      <td>0</td>\n",
       "      <td>0.000000e+00</td>\n",
       "    </tr>\n",
       "    <tr>\n",
       "      <th>4</th>\n",
       "      <td>8558167bfffffff</td>\n",
       "      <td>0</td>\n",
       "      <td>9</td>\n",
       "      <td>BEN</td>\n",
       "      <td>BEN</td>\n",
       "      <td>12114425</td>\n",
       "      <td>0.000000e+00</td>\n",
       "    </tr>\n",
       "  </tbody>\n",
       "</table>\n",
       "</div>"
      ],
      "text/plain": [
       "             h3_id  manufacturing  services    gid_1 gid_0  services_h3_gdp  \\\n",
       "0  851fa443fffffff           1705     13363  BEL.1_1   BEL      49380563950   \n",
       "1  851fa44ffffffff            698      6012  BEL.1_1   BEL      22216265095   \n",
       "2  8558a3dbfffffff              5         0      BEN   BEN                0   \n",
       "3  8558b137fffffff              0         0      BEN   BEN                0   \n",
       "4  8558167bfffffff              0         9      BEN   BEN         12114425   \n",
       "\n",
       "   manufacturing_h3_gdp  \n",
       "0          4.851622e+09  \n",
       "1          1.986177e+09  \n",
       "2          1.455508e+07  \n",
       "3          0.000000e+00  \n",
       "4          0.000000e+00  "
      ]
     },
     "execution_count": 85,
     "metadata": {},
     "output_type": "execute_result"
    }
   ],
   "source": [
    "print(h3_grid.shape)\n",
    "h3_grid.head()"
   ]
  },
  {
   "cell_type": "code",
   "execution_count": 86,
   "metadata": {},
   "outputs": [
    {
     "name": "stdout",
     "output_type": "stream",
     "text": [
      "Max input : 26.32, palette colors : 256\n",
      "Max input : 24.63, palette colors : 256\n"
     ]
    }
   ],
   "source": [
    "h3_grid[\"services_cols\"] = cmap(input=h3_grid.services_h3_gdp,log=True,palette=gdp_pal)\n",
    "h3_grid[\"manufacturing_cols\"] = cmap(input=h3_grid.manufacturing_h3_gdp,log=True,palette=gdp_pal)"
   ]
  },
  {
   "cell_type": "markdown",
   "metadata": {},
   "source": [
    "### Formatted strings"
   ]
  },
  {
   "cell_type": "code",
   "execution_count": null,
   "metadata": {},
   "outputs": [],
   "source": [
    "h3_grid[\"serv_format\"] = h3_grid.services_h3_gdp.apply(lambda x: f\"{x:,}\")\n",
    "h3_grid[\"manuf_format\"] = h3_grid.manufacturing_h3_gdp.apply(lambda x: f\"{x:,}\")"
   ]
  },
  {
   "cell_type": "markdown",
   "metadata": {},
   "source": [
    "## Map downscaled"
   ]
  },
  {
   "cell_type": "code",
   "execution_count": 90,
   "metadata": {},
   "outputs": [],
   "source": [
    "# Define a layer to display on a map\n",
    "# layer = pdk.Layer(\n",
    "#     \"H3HexagonLayer\",\n",
    "#     h3_grid[h3_grid.services_h3_gdp!=0],\n",
    "#     pickable=True,\n",
    "#     stroked=True,\n",
    "#     filled=True,\n",
    "#     opacity = .6,\n",
    "#     extruded=False,\n",
    "#     get_hexagon=\"h3_id\",\n",
    "#     get_fill_color= \"services_cols\",\n",
    "#     get_line_color=[255, 255, 255, 0],\n",
    "#     line_width_min_pixels=1,\n",
    "#     line_width_max_pixels=2,\n",
    "# )\n",
    "\n",
    "# # Render\n",
    "# r = pdk.Deck(layers=[layer], initial_view_state=view_state, tooltip={\"html\": \"<h3> Estimated GDP </h3> <p> Services sector : {serv_format} </p> <p> Manufacturing sector : {manuf_format} </p>\"})\n",
    "# r.to_html(f\"../deck_maps/{bbox_name}_h3_services_hexagon_layer.html\", iframe_height=700)"
   ]
  },
  {
   "cell_type": "code",
   "execution_count": null,
   "metadata": {},
   "outputs": [],
   "source": [
    "# Define a layer to display on a map\n",
    "# layer = pdk.Layer(\n",
    "#     \"H3HexagonLayer\",\n",
    "#     h3_grid[h3_grid.manufacturing_h3_gdp!=0],\n",
    "#     pickable=True,\n",
    "#     stroked=True,\n",
    "#     filled=True,\n",
    "#     opacity = .6,\n",
    "#     extruded=False,\n",
    "#     get_hexagon=\"h3_id\",\n",
    "#     get_fill_color= \"manufacturing_cols\",\n",
    "#     get_line_color=[255, 255, 255, 0],\n",
    "#     line_width_min_pixels=1,\n",
    "#     line_width_max_pixels=2,\n",
    "# )\n",
    "\n",
    "# # Render\n",
    "# r = pdk.Deck(layers=[layer], initial_view_state=view_state, tooltip={\"html\": \"<h3> Estimated GDP </h3> <p> Services sector : {serv_format} </p> <p> Manufacturing sector : {manuf_format} </p>\"})\n",
    "# r.to_html(f\"../deck_maps/{bbox_name}_h3_manufacturing_hexagon_layer.html\", iframe_height=700)"
   ]
  }
 ],
 "metadata": {
  "kernelspec": {
   "display_name": "Python 3",
   "language": "python",
   "name": "python3"
  },
  "language_info": {
   "codemirror_mode": {
    "name": "ipython",
    "version": 3
   },
   "file_extension": ".py",
   "mimetype": "text/x-python",
   "name": "python",
   "nbconvert_exporter": "python",
   "pygments_lexer": "ipython3",
   "version": "3.12.5"
  }
 },
 "nbformat": 4,
 "nbformat_minor": 2
}
